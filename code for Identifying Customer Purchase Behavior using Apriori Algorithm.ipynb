{
 "cells": [
  {
   "cell_type": "code",
   "execution_count": 62,
   "id": "4852df58-c670-4b8f-9f79-fd220328cecc",
   "metadata": {},
   "outputs": [],
   "source": [
    "#import all the required packages...\n",
    "import pandas as pd\n",
    "import numpy as np\n",
    "import matplotlib.pyplot as plt\n",
    "import seaborn as sns \n",
    "from mlxtend.frequent_patterns import apriori\n",
    "from mlxtend.frequent_patterns import association_rules\n",
    "from mlxtend.frequent_patterns.fpgrowth import fpgrowth\n",
    "%matplotlib inline"
   ]
  },
  {
   "cell_type": "markdown",
   "id": "0cd4d2ac-5093-4da5-af90-64765559b126",
   "metadata": {},
   "source": [
    "### Loading dataset"
   ]
  },
  {
   "cell_type": "code",
   "execution_count": 88,
   "id": "d0094e15",
   "metadata": {},
   "outputs": [
    {
     "data": {
      "text/html": [
       "<div>\n",
       "<style scoped>\n",
       "    .dataframe tbody tr th:only-of-type {\n",
       "        vertical-align: middle;\n",
       "    }\n",
       "\n",
       "    .dataframe tbody tr th {\n",
       "        vertical-align: top;\n",
       "    }\n",
       "\n",
       "    .dataframe thead th {\n",
       "        text-align: right;\n",
       "    }\n",
       "</style>\n",
       "<table border=\"1\" class=\"dataframe\">\n",
       "  <thead>\n",
       "    <tr style=\"text-align: right;\">\n",
       "      <th></th>\n",
       "      <th>InvoiceNo</th>\n",
       "      <th>StockCode</th>\n",
       "      <th>Description</th>\n",
       "      <th>Quantity</th>\n",
       "      <th>InvoiceDate</th>\n",
       "      <th>UnitPrice</th>\n",
       "      <th>CustomerID</th>\n",
       "      <th>Country</th>\n",
       "    </tr>\n",
       "  </thead>\n",
       "  <tbody>\n",
       "    <tr>\n",
       "      <th>0</th>\n",
       "      <td>536365</td>\n",
       "      <td>85123A</td>\n",
       "      <td>WHITE HANGING HEART T-LIGHT HOLDER</td>\n",
       "      <td>6</td>\n",
       "      <td>12/1/2010 8:26</td>\n",
       "      <td>2.55</td>\n",
       "      <td>17850.0</td>\n",
       "      <td>United Kingdom</td>\n",
       "    </tr>\n",
       "    <tr>\n",
       "      <th>1</th>\n",
       "      <td>536365</td>\n",
       "      <td>71053</td>\n",
       "      <td>WHITE METAL LANTERN</td>\n",
       "      <td>6</td>\n",
       "      <td>12/1/2010 8:26</td>\n",
       "      <td>3.39</td>\n",
       "      <td>17850.0</td>\n",
       "      <td>United Kingdom</td>\n",
       "    </tr>\n",
       "    <tr>\n",
       "      <th>2</th>\n",
       "      <td>536365</td>\n",
       "      <td>84406B</td>\n",
       "      <td>CREAM CUPID HEARTS COAT HANGER</td>\n",
       "      <td>8</td>\n",
       "      <td>12/1/2010 8:26</td>\n",
       "      <td>2.75</td>\n",
       "      <td>17850.0</td>\n",
       "      <td>United Kingdom</td>\n",
       "    </tr>\n",
       "    <tr>\n",
       "      <th>3</th>\n",
       "      <td>536365</td>\n",
       "      <td>84029G</td>\n",
       "      <td>KNITTED UNION FLAG HOT WATER BOTTLE</td>\n",
       "      <td>6</td>\n",
       "      <td>12/1/2010 8:26</td>\n",
       "      <td>3.39</td>\n",
       "      <td>17850.0</td>\n",
       "      <td>United Kingdom</td>\n",
       "    </tr>\n",
       "    <tr>\n",
       "      <th>4</th>\n",
       "      <td>536365</td>\n",
       "      <td>84029E</td>\n",
       "      <td>RED WOOLLY HOTTIE WHITE HEART.</td>\n",
       "      <td>6</td>\n",
       "      <td>12/1/2010 8:26</td>\n",
       "      <td>3.39</td>\n",
       "      <td>17850.0</td>\n",
       "      <td>United Kingdom</td>\n",
       "    </tr>\n",
       "  </tbody>\n",
       "</table>\n",
       "</div>"
      ],
      "text/plain": [
       "  InvoiceNo StockCode                          Description  Quantity  \\\n",
       "0    536365    85123A   WHITE HANGING HEART T-LIGHT HOLDER         6   \n",
       "1    536365     71053                  WHITE METAL LANTERN         6   \n",
       "2    536365    84406B       CREAM CUPID HEARTS COAT HANGER         8   \n",
       "3    536365    84029G  KNITTED UNION FLAG HOT WATER BOTTLE         6   \n",
       "4    536365    84029E       RED WOOLLY HOTTIE WHITE HEART.         6   \n",
       "\n",
       "      InvoiceDate  UnitPrice  CustomerID         Country  \n",
       "0  12/1/2010 8:26       2.55     17850.0  United Kingdom  \n",
       "1  12/1/2010 8:26       3.39     17850.0  United Kingdom  \n",
       "2  12/1/2010 8:26       2.75     17850.0  United Kingdom  \n",
       "3  12/1/2010 8:26       3.39     17850.0  United Kingdom  \n",
       "4  12/1/2010 8:26       3.39     17850.0  United Kingdom  "
      ]
     },
     "execution_count": 88,
     "metadata": {},
     "output_type": "execute_result"
    }
   ],
   "source": [
    "# loading dataset and storing as pandas dataframe as 'customer_data'\n",
    "customer_data = pd.read_csv('data.csv')\n",
    "customer_data.head()"
   ]
  },
  {
   "cell_type": "markdown",
   "id": "360cbb8d-7c61-4b59-9897-ff28ba552982",
   "metadata": {},
   "source": [
    "The above table shows the overview of the dataset. It has information about transactions of customers from different countries.\n",
    "One customer can purchase different products(Description) with multiple stockcodes, qunatity, unitprice with same InvoiceNo"
   ]
  },
  {
   "cell_type": "code",
   "execution_count": 89,
   "id": "3a7f7874-6147-45ec-aa95-4893ad92942c",
   "metadata": {},
   "outputs": [
    {
     "data": {
      "text/plain": [
       "(541909, 8)"
      ]
     },
     "execution_count": 89,
     "metadata": {},
     "output_type": "execute_result"
    }
   ],
   "source": [
    "# Dataset has 541909 instances and 8 attributes/cloumns\n",
    "customer_data.shape"
   ]
  },
  {
   "cell_type": "code",
   "execution_count": 90,
   "id": "901d670d-3cca-47fc-a5b3-4766c562d1be",
   "metadata": {},
   "outputs": [
    {
     "name": "stdout",
     "output_type": "stream",
     "text": [
      "<class 'pandas.core.frame.DataFrame'>\n",
      "RangeIndex: 541909 entries, 0 to 541908\n",
      "Data columns (total 8 columns):\n",
      " #   Column       Non-Null Count   Dtype  \n",
      "---  ------       --------------   -----  \n",
      " 0   InvoiceNo    541909 non-null  object \n",
      " 1   StockCode    541909 non-null  object \n",
      " 2   Description  540455 non-null  object \n",
      " 3   Quantity     541909 non-null  int64  \n",
      " 4   InvoiceDate  541909 non-null  object \n",
      " 5   UnitPrice    541909 non-null  float64\n",
      " 6   CustomerID   406829 non-null  float64\n",
      " 7   Country      541909 non-null  object \n",
      "dtypes: float64(2), int64(1), object(5)\n",
      "memory usage: 33.1+ MB\n"
     ]
    }
   ],
   "source": [
    "# Dataset has 5 categorical and 5 numeric data type attributes\n",
    "customer_data.info()"
   ]
  },
  {
   "cell_type": "code",
   "execution_count": 91,
   "id": "c8272d3c-bb5d-4009-8dbb-b2820874a0de",
   "metadata": {},
   "outputs": [],
   "source": [
    "# for further analysis the \"InvoiceDate\" attribute is converted into specifif date format using datetime\n",
    "customer_data.InvoiceDate = pd.to_datetime(customer_data.InvoiceDate)"
   ]
  },
  {
   "cell_type": "code",
   "execution_count": 92,
   "id": "11e0119d-d6d0-44a8-b363-4490a767caf6",
   "metadata": {},
   "outputs": [
    {
     "data": {
      "text/html": [
       "<div>\n",
       "<style scoped>\n",
       "    .dataframe tbody tr th:only-of-type {\n",
       "        vertical-align: middle;\n",
       "    }\n",
       "\n",
       "    .dataframe tbody tr th {\n",
       "        vertical-align: top;\n",
       "    }\n",
       "\n",
       "    .dataframe thead th {\n",
       "        text-align: right;\n",
       "    }\n",
       "</style>\n",
       "<table border=\"1\" class=\"dataframe\">\n",
       "  <thead>\n",
       "    <tr style=\"text-align: right;\">\n",
       "      <th></th>\n",
       "      <th>InvoiceNo</th>\n",
       "      <th>StockCode</th>\n",
       "      <th>Description</th>\n",
       "      <th>Quantity</th>\n",
       "      <th>InvoiceDate</th>\n",
       "      <th>UnitPrice</th>\n",
       "      <th>CustomerID</th>\n",
       "      <th>Country</th>\n",
       "    </tr>\n",
       "  </thead>\n",
       "  <tbody>\n",
       "    <tr>\n",
       "      <th>96155</th>\n",
       "      <td>544479</td>\n",
       "      <td>21843</td>\n",
       "      <td>RED RETROSPOT CAKE STAND</td>\n",
       "      <td>24</td>\n",
       "      <td>2011-02-21 10:28:00</td>\n",
       "      <td>9.95</td>\n",
       "      <td>14646.0</td>\n",
       "      <td>Netherlands</td>\n",
       "    </tr>\n",
       "    <tr>\n",
       "      <th>442939</th>\n",
       "      <td>574683</td>\n",
       "      <td>22424</td>\n",
       "      <td>ENAMEL BREAD BIN CREAM</td>\n",
       "      <td>1</td>\n",
       "      <td>2011-11-06 12:50:00</td>\n",
       "      <td>12.75</td>\n",
       "      <td>16372.0</td>\n",
       "      <td>United Kingdom</td>\n",
       "    </tr>\n",
       "    <tr>\n",
       "      <th>10067</th>\n",
       "      <td>537224</td>\n",
       "      <td>21813</td>\n",
       "      <td>GARLAND WITH STARS AND BELLS</td>\n",
       "      <td>6</td>\n",
       "      <td>2010-12-05 16:24:00</td>\n",
       "      <td>4.95</td>\n",
       "      <td>13174.0</td>\n",
       "      <td>United Kingdom</td>\n",
       "    </tr>\n",
       "    <tr>\n",
       "      <th>176210</th>\n",
       "      <td>551997</td>\n",
       "      <td>22725</td>\n",
       "      <td>ALARM CLOCK BAKELIKE CHOCOLATE</td>\n",
       "      <td>1</td>\n",
       "      <td>2011-05-05 15:47:00</td>\n",
       "      <td>7.46</td>\n",
       "      <td>NaN</td>\n",
       "      <td>United Kingdom</td>\n",
       "    </tr>\n",
       "    <tr>\n",
       "      <th>439708</th>\n",
       "      <td>574481</td>\n",
       "      <td>23308</td>\n",
       "      <td>SET OF 60 VINTAGE LEAF CAKE CASES</td>\n",
       "      <td>1</td>\n",
       "      <td>2011-11-04 12:45:00</td>\n",
       "      <td>0.55</td>\n",
       "      <td>18022.0</td>\n",
       "      <td>United Kingdom</td>\n",
       "    </tr>\n",
       "  </tbody>\n",
       "</table>\n",
       "</div>"
      ],
      "text/plain": [
       "       InvoiceNo StockCode                         Description  Quantity  \\\n",
       "96155     544479     21843            RED RETROSPOT CAKE STAND        24   \n",
       "442939    574683     22424              ENAMEL BREAD BIN CREAM         1   \n",
       "10067     537224     21813        GARLAND WITH STARS AND BELLS         6   \n",
       "176210    551997     22725      ALARM CLOCK BAKELIKE CHOCOLATE         1   \n",
       "439708    574481     23308  SET OF 60 VINTAGE LEAF CAKE CASES          1   \n",
       "\n",
       "               InvoiceDate  UnitPrice  CustomerID         Country  \n",
       "96155  2011-02-21 10:28:00       9.95     14646.0     Netherlands  \n",
       "442939 2011-11-06 12:50:00      12.75     16372.0  United Kingdom  \n",
       "10067  2010-12-05 16:24:00       4.95     13174.0  United Kingdom  \n",
       "176210 2011-05-05 15:47:00       7.46         NaN  United Kingdom  \n",
       "439708 2011-11-04 12:45:00       0.55     18022.0  United Kingdom  "
      ]
     },
     "execution_count": 92,
     "metadata": {},
     "output_type": "execute_result"
    }
   ],
   "source": [
    "# the InvoiceDate is converted into desired format\n",
    "customer_data.sample(5)"
   ]
  },
  {
   "cell_type": "markdown",
   "id": "76068e00-ef73-49a6-9158-02a6040b3b50",
   "metadata": {},
   "source": [
    "### Handling missing values"
   ]
  },
  {
   "cell_type": "code",
   "execution_count": 93,
   "id": "add7b3d9-9b51-4fb9-ae27-6263cf2d21f3",
   "metadata": {},
   "outputs": [
    {
     "data": {
      "text/plain": [
       "InvoiceNo           0\n",
       "StockCode           0\n",
       "Description      1454\n",
       "Quantity            0\n",
       "InvoiceDate         0\n",
       "UnitPrice           0\n",
       "CustomerID     135080\n",
       "Country             0\n",
       "dtype: int64"
      ]
     },
     "execution_count": 93,
     "metadata": {},
     "output_type": "execute_result"
    }
   ],
   "source": [
    "# checking missing values in the data\n",
    "customer_data.isnull().sum()"
   ]
  },
  {
   "cell_type": "markdown",
   "id": "3c17500d-4c62-4462-a29b-bd7f2406cb2e",
   "metadata": {},
   "source": [
    "Both Description and CustomerID has missing values which needs to be handled"
   ]
  },
  {
   "cell_type": "code",
   "execution_count": 94,
   "id": "aab236d7-259f-4b00-8e59-10feba7533fa",
   "metadata": {},
   "outputs": [
    {
     "data": {
      "image/png": "[encoded data removed]",
      "text/plain": [
       "<Figure size 432x288 with 1 Axes>"
      ]
     },
     "metadata": {},
     "output_type": "display_data"
    }
   ],
   "source": [
    "# plotting missing values\n",
    "missing_per=customer_data.isnull().sum()/customer_data.shape[0] *100\n",
    "missing_per=missing_per.to_frame()\n",
    "missing_per.columns = ['Percentage']\n",
    "missing_per.index.names = ['Attributes']\n",
    "sns.set(style=\"whitegrid\", color_codes=True)\n",
    "sns.barplot(x = missing_per.index, y = 'Percentage', data=missing_per)\n",
    "plt.xticks(rotation = 90)\n",
    "plt.show()"
   ]
  },
  {
   "cell_type": "markdown",
   "id": "b3e511a9-29df-4ae2-baea-2c31863f98b4",
   "metadata": {},
   "source": [
    "From the above bar graph, the CustomerID has almost 25% of missing values and Description has less than 0.5% of missing values"
   ]
  },
  {
   "cell_type": "code",
   "execution_count": 9,
   "id": "d87d1de4",
   "metadata": {},
   "outputs": [
    {
     "data": {
      "text/plain": [
       "573585     1114\n",
       "581219      749\n",
       "581492      731\n",
       "580729      721\n",
       "558475      705\n",
       "           ... \n",
       "544043        1\n",
       "C579913       1\n",
       "C569490       1\n",
       "557417        1\n",
       "C546978       1\n",
       "Name: InvoiceNo, Length: 25900, dtype: int64"
      ]
     },
     "execution_count": 9,
     "metadata": {},
     "output_type": "execute_result"
    }
   ],
   "source": [
    "customer_data.InvoiceNo.value_counts()"
   ]
  },
  {
   "cell_type": "code",
   "execution_count": 10,
   "id": "f3893362-e996-422e-bd4e-ae20993ba46f",
   "metadata": {},
   "outputs": [
    {
     "data": {
      "text/plain": [
       "4223"
      ]
     },
     "execution_count": 10,
     "metadata": {},
     "output_type": "execute_result"
    }
   ],
   "source": [
    "customer_data.Description.nunique()"
   ]
  },
  {
   "cell_type": "code",
   "execution_count": 11,
   "id": "5095a2d5-11d7-4e2f-ad62-56d097f71219",
   "metadata": {},
   "outputs": [
    {
     "data": {
      "text/plain": [
       "WHITE HANGING HEART T-LIGHT HOLDER    2369\n",
       "REGENCY CAKESTAND 3 TIER              2200\n",
       "JUMBO BAG RED RETROSPOT               2159\n",
       "PARTY BUNTING                         1727\n",
       "LUNCH BAG RED RETROSPOT               1638\n",
       "                                      ... \n",
       "BREAD BIN, DINER STYLE, IVORY            1\n",
       "damages/showroom etc                     1\n",
       "20713                                    1\n",
       "VINTAGE GOLD TINSEL REEL                 1\n",
       "SET 10 CARDS TRIANGLE ICONS  17220       1\n",
       "Name: Description, Length: 4223, dtype: int64"
      ]
     },
     "execution_count": 11,
     "metadata": {},
     "output_type": "execute_result"
    }
   ],
   "source": [
    "customer_data.Description.value_counts()"
   ]
  },
  {
   "cell_type": "markdown",
   "id": "5af62613-c099-45d7-8bb3-8062ef76561f",
   "metadata": {},
   "source": [
    "There are some instances where InvoiceNo starts with 'C', which means cancelled transactions. We need to drop those instances and others if any from our dataset"
   ]
  },
  {
   "cell_type": "code",
   "execution_count": 12,
   "id": "0595bce7-202c-4c39-920f-f1e8704b51c0",
   "metadata": {},
   "outputs": [],
   "source": [
    "customer_data.drop(customer_data[customer_data.InvoiceNo.str.match('^[a-zA-Z]')].index, axis=0, inplace=True)"
   ]
  },
  {
   "cell_type": "code",
   "execution_count": 13,
   "id": "3bd5af15-71fb-481d-8838-6e6306d83f0f",
   "metadata": {},
   "outputs": [
    {
     "data": {
      "text/plain": [
       "False    532618\n",
       "Name: InvoiceNo, dtype: int64"
      ]
     },
     "execution_count": 13,
     "metadata": {},
     "output_type": "execute_result"
    }
   ],
   "source": [
    "customer_data.InvoiceNo.str.match('^[a-zA-Z]').value_counts()"
   ]
  },
  {
   "cell_type": "markdown",
   "id": "48b755d8-6066-418b-8904-4a40d496f9cd",
   "metadata": {},
   "source": [
    "Now we can see there are no instances of cancelled transactions"
   ]
  },
  {
   "cell_type": "code",
   "execution_count": 14,
   "id": "e9b74819-0e23-4d43-9df0-1e67802844ec",
   "metadata": {},
   "outputs": [],
   "source": [
    "# converting the data type of invoice no to int\n",
    "customer_data.InvoiceNo = customer_data.InvoiceNo.astype('int64')"
   ]
  },
  {
   "cell_type": "code",
   "execution_count": 15,
   "id": "067017ab-9137-4716-b556-201c8dbce334",
   "metadata": {},
   "outputs": [
    {
     "data": {
      "text/plain": [
       "22061"
      ]
     },
     "execution_count": 15,
     "metadata": {},
     "output_type": "execute_result"
    }
   ],
   "source": [
    "# out of 54K instances there are only around 22K unique invoices, which shows that the customers purchase mutliple products with a single invoice\n",
    "customer_data.InvoiceNo.nunique()"
   ]
  },
  {
   "cell_type": "code",
   "execution_count": 16,
   "id": "dcf4efdd-8f46-45db-8c24-3e5ec5830ab3",
   "metadata": {},
   "outputs": [
    {
     "data": {
      "text/plain": [
       "532618"
      ]
     },
     "execution_count": 16,
     "metadata": {},
     "output_type": "execute_result"
    }
   ],
   "source": [
    "customer_data.InvoiceNo.count()"
   ]
  },
  {
   "cell_type": "markdown",
   "id": "10b5f771-6fe9-4e1a-b040-f5e0a67d64db",
   "metadata": {},
   "source": [
    "### Handling error values"
   ]
  },
  {
   "cell_type": "code",
   "execution_count": 17,
   "id": "204934c1-95ba-485e-b2c1-6cf1698bcc54",
   "metadata": {},
   "outputs": [
    {
     "data": {
      "text/plain": [
       "False    531282\n",
       "True       1336\n",
       "Name: Quantity, dtype: int64"
      ]
     },
     "execution_count": 17,
     "metadata": {},
     "output_type": "execute_result"
    }
   ],
   "source": [
    "(customer_data['Quantity'] <0).value_counts()"
   ]
  },
  {
   "cell_type": "markdown",
   "id": "ce594fdd-92e2-4be1-abf3-b4818fd51e01",
   "metadata": {},
   "source": [
    "The Qunatity attribute has 1K negative values, which should not be possible in real scenario"
   ]
  },
  {
   "cell_type": "code",
   "execution_count": 18,
   "id": "68a219ff-3ea2-4863-b0bd-3a815394d020",
   "metadata": {},
   "outputs": [
    {
     "data": {
      "text/plain": [
       "(530103, 8)"
      ]
     },
     "execution_count": 18,
     "metadata": {},
     "output_type": "execute_result"
    }
   ],
   "source": [
    "#Removing error values of attributes from the dataset\n",
    "customer_data=customer_data[(customer_data.Quantity>0) & (customer_data.UnitPrice>0)]\n",
    "customer_data.shape"
   ]
  },
  {
   "cell_type": "markdown",
   "id": "4b1fea9c-3138-4c8b-9abc-8029a3843fd1",
   "metadata": {},
   "source": [
    "After removing the error values we have around 53K isntances"
   ]
  },
  {
   "cell_type": "code",
   "execution_count": 19,
   "id": "e15d44f4-8713-486c-86aa-f51ac13137c7",
   "metadata": {},
   "outputs": [
    {
     "name": "stdout",
     "output_type": "stream",
     "text": [
      "<class 'pandas.core.frame.DataFrame'>\n",
      "Int64Index: 530103 entries, 0 to 541908\n",
      "Data columns (total 8 columns):\n",
      " #   Column       Non-Null Count   Dtype         \n",
      "---  ------       --------------   -----         \n",
      " 0   InvoiceNo    530103 non-null  int64         \n",
      " 1   StockCode    530103 non-null  object        \n",
      " 2   Description  530103 non-null  object        \n",
      " 3   Quantity     530103 non-null  int64         \n",
      " 4   InvoiceDate  530103 non-null  datetime64[ns]\n",
      " 5   UnitPrice    530103 non-null  float64       \n",
      " 6   CustomerID   397884 non-null  float64       \n",
      " 7   Country      530103 non-null  object        \n",
      "dtypes: datetime64[ns](1), float64(2), int64(2), object(3)\n",
      "memory usage: 36.4+ MB\n"
     ]
    }
   ],
   "source": [
    "customer_data.info()"
   ]
  },
  {
   "cell_type": "code",
   "execution_count": 20,
   "id": "18c0bac4-3b57-43bb-a613-a324dbae8db8",
   "metadata": {},
   "outputs": [
    {
     "data": {
      "text/html": [
       "<div>\n",
       "<style scoped>\n",
       "    .dataframe tbody tr th:only-of-type {\n",
       "        vertical-align: middle;\n",
       "    }\n",
       "\n",
       "    .dataframe tbody tr th {\n",
       "        vertical-align: top;\n",
       "    }\n",
       "\n",
       "    .dataframe thead th {\n",
       "        text-align: right;\n",
       "    }\n",
       "</style>\n",
       "<table border=\"1\" class=\"dataframe\">\n",
       "  <thead>\n",
       "    <tr style=\"text-align: right;\">\n",
       "      <th></th>\n",
       "      <th>InvoiceNo</th>\n",
       "      <th>Quantity</th>\n",
       "      <th>UnitPrice</th>\n",
       "      <th>CustomerID</th>\n",
       "    </tr>\n",
       "  </thead>\n",
       "  <tbody>\n",
       "    <tr>\n",
       "      <th>count</th>\n",
       "      <td>530103.000000</td>\n",
       "      <td>530103.000000</td>\n",
       "      <td>530103.000000</td>\n",
       "      <td>397884.000000</td>\n",
       "    </tr>\n",
       "    <tr>\n",
       "      <th>mean</th>\n",
       "      <td>559981.474689</td>\n",
       "      <td>10.542055</td>\n",
       "      <td>3.886765</td>\n",
       "      <td>15294.423453</td>\n",
       "    </tr>\n",
       "    <tr>\n",
       "      <th>std</th>\n",
       "      <td>13430.049738</td>\n",
       "      <td>155.524270</td>\n",
       "      <td>32.546281</td>\n",
       "      <td>1713.141560</td>\n",
       "    </tr>\n",
       "    <tr>\n",
       "      <th>min</th>\n",
       "      <td>536365.000000</td>\n",
       "      <td>1.000000</td>\n",
       "      <td>0.001000</td>\n",
       "      <td>12346.000000</td>\n",
       "    </tr>\n",
       "    <tr>\n",
       "      <th>25%</th>\n",
       "      <td>547909.000000</td>\n",
       "      <td>1.000000</td>\n",
       "      <td>1.250000</td>\n",
       "      <td>13969.000000</td>\n",
       "    </tr>\n",
       "    <tr>\n",
       "      <th>50%</th>\n",
       "      <td>560711.000000</td>\n",
       "      <td>3.000000</td>\n",
       "      <td>2.080000</td>\n",
       "      <td>15159.000000</td>\n",
       "    </tr>\n",
       "    <tr>\n",
       "      <th>75%</th>\n",
       "      <td>571847.000000</td>\n",
       "      <td>10.000000</td>\n",
       "      <td>4.130000</td>\n",
       "      <td>16795.000000</td>\n",
       "    </tr>\n",
       "    <tr>\n",
       "      <th>max</th>\n",
       "      <td>581587.000000</td>\n",
       "      <td>80995.000000</td>\n",
       "      <td>13541.330000</td>\n",
       "      <td>18287.000000</td>\n",
       "    </tr>\n",
       "  </tbody>\n",
       "</table>\n",
       "</div>"
      ],
      "text/plain": [
       "           InvoiceNo       Quantity      UnitPrice     CustomerID\n",
       "count  530103.000000  530103.000000  530103.000000  397884.000000\n",
       "mean   559981.474689      10.542055       3.886765   15294.423453\n",
       "std     13430.049738     155.524270      32.546281    1713.141560\n",
       "min    536365.000000       1.000000       0.001000   12346.000000\n",
       "25%    547909.000000       1.000000       1.250000   13969.000000\n",
       "50%    560711.000000       3.000000       2.080000   15159.000000\n",
       "75%    571847.000000      10.000000       4.130000   16795.000000\n",
       "max    581587.000000   80995.000000   13541.330000   18287.000000"
      ]
     },
     "execution_count": 20,
     "metadata": {},
     "output_type": "execute_result"
    }
   ],
   "source": [
    "customer_data.describe()"
   ]
  },
  {
   "cell_type": "code",
   "execution_count": 21,
   "id": "57f701b8-68a5-4d14-a282-a968a6c02a66",
   "metadata": {},
   "outputs": [],
   "source": [
    "# some spaces are there in description need to remove else later operation it will create problem..\n",
    "customer_data['Description'] = customer_data['Description'].str.strip()"
   ]
  },
  {
   "cell_type": "code",
   "execution_count": 22,
   "id": "e22829d5-4ce7-44e1-9073-cc8d13110324",
   "metadata": {},
   "outputs": [],
   "source": [
    "# Dropping the instances which has no description of products\n",
    "customer_data.dropna(inplace=True, subset=['Description'])"
   ]
  },
  {
   "cell_type": "code",
   "execution_count": 23,
   "id": "79d6de33-016a-4feb-8fcf-84fa62cff389",
   "metadata": {},
   "outputs": [
    {
     "data": {
      "text/plain": [
       "0"
      ]
     },
     "execution_count": 23,
     "metadata": {},
     "output_type": "execute_result"
    }
   ],
   "source": [
    "customer_data.Description.isnull().sum()"
   ]
  },
  {
   "cell_type": "markdown",
   "id": "2485c2ac-59e2-48d1-bd95-010065b27f3c",
   "metadata": {},
   "source": [
    "### Exploratory data analysis and visualization"
   ]
  },
  {
   "cell_type": "code",
   "execution_count": 24,
   "id": "ac3b8d1f",
   "metadata": {},
   "outputs": [
    {
     "data": {
      "text/plain": [
       "United Kingdom    485122\n",
       "Germany             9040\n",
       "France              8407\n",
       "EIRE                7890\n",
       "Spain               2484\n",
       "Name: Country, dtype: int64"
      ]
     },
     "execution_count": 24,
     "metadata": {},
     "output_type": "execute_result"
    }
   ],
   "source": [
    "customer_data.Country.value_counts().head(5)"
   ]
  },
  {
   "cell_type": "code",
   "execution_count": 25,
   "id": "6b86d2a4-037c-4ac0-acfb-8f1dd033d6af",
   "metadata": {},
   "outputs": [
    {
     "data": {
      "text/html": [
       "<div>\n",
       "<style scoped>\n",
       "    .dataframe tbody tr th:only-of-type {\n",
       "        vertical-align: middle;\n",
       "    }\n",
       "\n",
       "    .dataframe tbody tr th {\n",
       "        vertical-align: top;\n",
       "    }\n",
       "\n",
       "    .dataframe thead th {\n",
       "        text-align: right;\n",
       "    }\n",
       "</style>\n",
       "<table border=\"1\" class=\"dataframe\">\n",
       "  <thead>\n",
       "    <tr style=\"text-align: right;\">\n",
       "      <th></th>\n",
       "      <th>InvoiceNo</th>\n",
       "      <th>StockCode</th>\n",
       "      <th>Description</th>\n",
       "      <th>Quantity</th>\n",
       "      <th>InvoiceDate</th>\n",
       "      <th>UnitPrice</th>\n",
       "      <th>CustomerID</th>\n",
       "      <th>Country</th>\n",
       "    </tr>\n",
       "  </thead>\n",
       "  <tbody>\n",
       "    <tr>\n",
       "      <th>0</th>\n",
       "      <td>536365</td>\n",
       "      <td>85123A</td>\n",
       "      <td>WHITE HANGING HEART T-LIGHT HOLDER</td>\n",
       "      <td>6</td>\n",
       "      <td>2010-12-01 08:26:00</td>\n",
       "      <td>2.55</td>\n",
       "      <td>17850.0</td>\n",
       "      <td>United Kingdom</td>\n",
       "    </tr>\n",
       "    <tr>\n",
       "      <th>1</th>\n",
       "      <td>536365</td>\n",
       "      <td>71053</td>\n",
       "      <td>WHITE METAL LANTERN</td>\n",
       "      <td>6</td>\n",
       "      <td>2010-12-01 08:26:00</td>\n",
       "      <td>3.39</td>\n",
       "      <td>17850.0</td>\n",
       "      <td>United Kingdom</td>\n",
       "    </tr>\n",
       "    <tr>\n",
       "      <th>2</th>\n",
       "      <td>536365</td>\n",
       "      <td>84406B</td>\n",
       "      <td>CREAM CUPID HEARTS COAT HANGER</td>\n",
       "      <td>8</td>\n",
       "      <td>2010-12-01 08:26:00</td>\n",
       "      <td>2.75</td>\n",
       "      <td>17850.0</td>\n",
       "      <td>United Kingdom</td>\n",
       "    </tr>\n",
       "    <tr>\n",
       "      <th>3</th>\n",
       "      <td>536365</td>\n",
       "      <td>84029G</td>\n",
       "      <td>KNITTED UNION FLAG HOT WATER BOTTLE</td>\n",
       "      <td>6</td>\n",
       "      <td>2010-12-01 08:26:00</td>\n",
       "      <td>3.39</td>\n",
       "      <td>17850.0</td>\n",
       "      <td>United Kingdom</td>\n",
       "    </tr>\n",
       "    <tr>\n",
       "      <th>4</th>\n",
       "      <td>536365</td>\n",
       "      <td>84029E</td>\n",
       "      <td>RED WOOLLY HOTTIE WHITE HEART.</td>\n",
       "      <td>6</td>\n",
       "      <td>2010-12-01 08:26:00</td>\n",
       "      <td>3.39</td>\n",
       "      <td>17850.0</td>\n",
       "      <td>United Kingdom</td>\n",
       "    </tr>\n",
       "  </tbody>\n",
       "</table>\n",
       "</div>"
      ],
      "text/plain": [
       "   InvoiceNo StockCode                          Description  Quantity  \\\n",
       "0     536365    85123A   WHITE HANGING HEART T-LIGHT HOLDER         6   \n",
       "1     536365     71053                  WHITE METAL LANTERN         6   \n",
       "2     536365    84406B       CREAM CUPID HEARTS COAT HANGER         8   \n",
       "3     536365    84029G  KNITTED UNION FLAG HOT WATER BOTTLE         6   \n",
       "4     536365    84029E       RED WOOLLY HOTTIE WHITE HEART.         6   \n",
       "\n",
       "          InvoiceDate  UnitPrice  CustomerID         Country  \n",
       "0 2010-12-01 08:26:00       2.55     17850.0  United Kingdom  \n",
       "1 2010-12-01 08:26:00       3.39     17850.0  United Kingdom  \n",
       "2 2010-12-01 08:26:00       2.75     17850.0  United Kingdom  \n",
       "3 2010-12-01 08:26:00       3.39     17850.0  United Kingdom  \n",
       "4 2010-12-01 08:26:00       3.39     17850.0  United Kingdom  "
      ]
     },
     "execution_count": 25,
     "metadata": {},
     "output_type": "execute_result"
    }
   ],
   "source": [
    "customer_data.head()"
   ]
  },
  {
   "cell_type": "code",
   "execution_count": 26,
   "id": "3fc05172-8ff2-4ab6-9a9c-941913b6895c",
   "metadata": {},
   "outputs": [
    {
     "data": {
      "text/html": [
       "<div>\n",
       "<style scoped>\n",
       "    .dataframe tbody tr th:only-of-type {\n",
       "        vertical-align: middle;\n",
       "    }\n",
       "\n",
       "    .dataframe tbody tr th {\n",
       "        vertical-align: top;\n",
       "    }\n",
       "\n",
       "    .dataframe thead th {\n",
       "        text-align: right;\n",
       "    }\n",
       "</style>\n",
       "<table border=\"1\" class=\"dataframe\">\n",
       "  <thead>\n",
       "    <tr style=\"text-align: right;\">\n",
       "      <th></th>\n",
       "      <th>CustomerID</th>\n",
       "    </tr>\n",
       "    <tr>\n",
       "      <th>Country</th>\n",
       "      <th></th>\n",
       "    </tr>\n",
       "  </thead>\n",
       "  <tbody>\n",
       "    <tr>\n",
       "      <th>United Kingdom</th>\n",
       "      <td>354321</td>\n",
       "    </tr>\n",
       "    <tr>\n",
       "      <th>Germany</th>\n",
       "      <td>9040</td>\n",
       "    </tr>\n",
       "    <tr>\n",
       "      <th>France</th>\n",
       "      <td>8341</td>\n",
       "    </tr>\n",
       "    <tr>\n",
       "      <th>EIRE</th>\n",
       "      <td>7236</td>\n",
       "    </tr>\n",
       "    <tr>\n",
       "      <th>Spain</th>\n",
       "      <td>2484</td>\n",
       "    </tr>\n",
       "    <tr>\n",
       "      <th>Netherlands</th>\n",
       "      <td>2359</td>\n",
       "    </tr>\n",
       "    <tr>\n",
       "      <th>Belgium</th>\n",
       "      <td>2031</td>\n",
       "    </tr>\n",
       "    <tr>\n",
       "      <th>Switzerland</th>\n",
       "      <td>1841</td>\n",
       "    </tr>\n",
       "    <tr>\n",
       "      <th>Portugal</th>\n",
       "      <td>1462</td>\n",
       "    </tr>\n",
       "    <tr>\n",
       "      <th>Australia</th>\n",
       "      <td>1182</td>\n",
       "    </tr>\n",
       "  </tbody>\n",
       "</table>\n",
       "</div>"
      ],
      "text/plain": [
       "                CustomerID\n",
       "Country                   \n",
       "United Kingdom      354321\n",
       "Germany               9040\n",
       "France                8341\n",
       "EIRE                  7236\n",
       "Spain                 2484\n",
       "Netherlands           2359\n",
       "Belgium               2031\n",
       "Switzerland           1841\n",
       "Portugal              1462\n",
       "Australia             1182"
      ]
     },
     "execution_count": 26,
     "metadata": {},
     "output_type": "execute_result"
    }
   ],
   "source": [
    "co_cu=customer_data[['Country','CustomerID']].groupby('Country').count().sort_values(by=\"CustomerID\",ascending=False).head(10)\n",
    "co_cu"
   ]
  },
  {
   "cell_type": "code",
   "execution_count": 27,
   "id": "6238fb45-2536-4cb3-b4cd-2e488f40e4db",
   "metadata": {},
   "outputs": [
    {
     "data": {
      "image/png": "[encoded data removed]",
      "text/plain": [
       "<Figure size 432x288 with 1 Axes>"
      ]
     },
     "metadata": {},
     "output_type": "display_data"
    }
   ],
   "source": [
    "sns.barplot(x = co_cu.index, y = 'CustomerID', data=co_cu)\n",
    "plt.title(\"Total number of customers based on country\")\n",
    "plt.ylabel(\"Customers\")\n",
    "plt.xlabel(\"Country\")\n",
    "plt.xticks(rotation = 90)\n",
    "plt.show()"
   ]
  },
  {
   "cell_type": "markdown",
   "id": "392cde04-0275-4dc1-b420-2fd786a22a24",
   "metadata": {},
   "source": [
    "The above bar graph shows the top ten countries based on customers. United Kingdom has majority of customers followed by germany and france."
   ]
  },
  {
   "cell_type": "code",
   "execution_count": 28,
   "id": "17b82627-df87-43ba-a902-b19c04b6cbc7",
   "metadata": {},
   "outputs": [
    {
     "data": {
      "text/html": [
       "<div>\n",
       "<style scoped>\n",
       "    .dataframe tbody tr th:only-of-type {\n",
       "        vertical-align: middle;\n",
       "    }\n",
       "\n",
       "    .dataframe tbody tr th {\n",
       "        vertical-align: top;\n",
       "    }\n",
       "\n",
       "    .dataframe thead th {\n",
       "        text-align: right;\n",
       "    }\n",
       "</style>\n",
       "<table border=\"1\" class=\"dataframe\">\n",
       "  <thead>\n",
       "    <tr style=\"text-align: right;\">\n",
       "      <th></th>\n",
       "      <th>InvoiceNo</th>\n",
       "    </tr>\n",
       "    <tr>\n",
       "      <th>Country</th>\n",
       "      <th></th>\n",
       "    </tr>\n",
       "  </thead>\n",
       "  <tbody>\n",
       "    <tr>\n",
       "      <th>United Kingdom</th>\n",
       "      <td>485122</td>\n",
       "    </tr>\n",
       "    <tr>\n",
       "      <th>Germany</th>\n",
       "      <td>9040</td>\n",
       "    </tr>\n",
       "    <tr>\n",
       "      <th>France</th>\n",
       "      <td>8407</td>\n",
       "    </tr>\n",
       "    <tr>\n",
       "      <th>EIRE</th>\n",
       "      <td>7890</td>\n",
       "    </tr>\n",
       "    <tr>\n",
       "      <th>Spain</th>\n",
       "      <td>2484</td>\n",
       "    </tr>\n",
       "    <tr>\n",
       "      <th>Netherlands</th>\n",
       "      <td>2359</td>\n",
       "    </tr>\n",
       "    <tr>\n",
       "      <th>Belgium</th>\n",
       "      <td>2031</td>\n",
       "    </tr>\n",
       "    <tr>\n",
       "      <th>Switzerland</th>\n",
       "      <td>1966</td>\n",
       "    </tr>\n",
       "    <tr>\n",
       "      <th>Portugal</th>\n",
       "      <td>1501</td>\n",
       "    </tr>\n",
       "    <tr>\n",
       "      <th>Australia</th>\n",
       "      <td>1182</td>\n",
       "    </tr>\n",
       "  </tbody>\n",
       "</table>\n",
       "</div>"
      ],
      "text/plain": [
       "                InvoiceNo\n",
       "Country                  \n",
       "United Kingdom     485122\n",
       "Germany              9040\n",
       "France               8407\n",
       "EIRE                 7890\n",
       "Spain                2484\n",
       "Netherlands          2359\n",
       "Belgium              2031\n",
       "Switzerland          1966\n",
       "Portugal             1501\n",
       "Australia            1182"
      ]
     },
     "execution_count": 28,
     "metadata": {},
     "output_type": "execute_result"
    }
   ],
   "source": [
    "co_in=customer_data[['Country','InvoiceNo']].groupby('Country').count().sort_values(by=\"InvoiceNo\",ascending=False).head(10)\n",
    "co_in"
   ]
  },
  {
   "cell_type": "code",
   "execution_count": 29,
   "id": "0794b2ce-a4ea-4c8a-aa79-53397c580304",
   "metadata": {},
   "outputs": [
    {
     "data": {
      "image/png": "[encoded data removed]",
      "text/plain": [
       "<Figure size 432x288 with 1 Axes>"
      ]
     },
     "metadata": {},
     "output_type": "display_data"
    }
   ],
   "source": [
    "sns.barplot(x =co_in.index, y = 'InvoiceNo', data=co_in)\n",
    "plt.title(\"Total number of products purchased based on country\")\n",
    "plt.xlabel(\"Country\")\n",
    "plt.ylabel(\"Invoice\")\n",
    "plt.xticks(rotation = 90)\n",
    "plt.show()"
   ]
  },
  {
   "cell_type": "markdown",
   "id": "bbfe352b-1fce-4b5b-a293-9d00d635d07c",
   "metadata": {},
   "source": [
    "The above bar graph shows the customers in United Kingdom has purchased more products when compared to other countries"
   ]
  },
  {
   "cell_type": "code",
   "execution_count": 30,
   "id": "e7f8904e-634a-42b3-a6e5-8388e1f7c977",
   "metadata": {},
   "outputs": [
    {
     "data": {
      "image/png": "[encoded data removed]",
      "text/plain": [
       "<Figure size 720x432 with 1 Axes>"
      ]
     },
     "metadata": {},
     "output_type": "display_data"
    }
   ],
   "source": [
    "plt.figure(figsize=(10,6))\n",
    "customer_data['Country'].value_counts()[:5].plot(kind = 'pie') \n",
    "plt.title('Top 5 countries based on transactions', weight='bold')\n",
    "plt.show()"
   ]
  },
  {
   "cell_type": "code",
   "execution_count": 31,
   "id": "d13d3ad2-7ece-46c6-b621-83995b01e187",
   "metadata": {},
   "outputs": [
    {
     "data": {
      "text/html": [
       "<div>\n",
       "<style scoped>\n",
       "    .dataframe tbody tr th:only-of-type {\n",
       "        vertical-align: middle;\n",
       "    }\n",
       "\n",
       "    .dataframe tbody tr th {\n",
       "        vertical-align: top;\n",
       "    }\n",
       "\n",
       "    .dataframe thead th {\n",
       "        text-align: right;\n",
       "    }\n",
       "</style>\n",
       "<table border=\"1\" class=\"dataframe\">\n",
       "  <thead>\n",
       "    <tr style=\"text-align: right;\">\n",
       "      <th></th>\n",
       "      <th>Quantity</th>\n",
       "    </tr>\n",
       "    <tr>\n",
       "      <th>Description</th>\n",
       "      <th></th>\n",
       "    </tr>\n",
       "  </thead>\n",
       "  <tbody>\n",
       "    <tr>\n",
       "      <th>WHITE HANGING HEART T-LIGHT HOLDER</th>\n",
       "      <td>2323</td>\n",
       "    </tr>\n",
       "    <tr>\n",
       "      <th>JUMBO BAG RED RETROSPOT</th>\n",
       "      <td>2112</td>\n",
       "    </tr>\n",
       "    <tr>\n",
       "      <th>REGENCY CAKESTAND 3 TIER</th>\n",
       "      <td>2017</td>\n",
       "    </tr>\n",
       "    <tr>\n",
       "      <th>PARTY BUNTING</th>\n",
       "      <td>1706</td>\n",
       "    </tr>\n",
       "    <tr>\n",
       "      <th>LUNCH BAG RED RETROSPOT</th>\n",
       "      <td>1594</td>\n",
       "    </tr>\n",
       "    <tr>\n",
       "      <th>ASSORTED COLOUR BIRD ORNAMENT</th>\n",
       "      <td>1489</td>\n",
       "    </tr>\n",
       "    <tr>\n",
       "      <th>SET OF 3 CAKE TINS PANTRY DESIGN</th>\n",
       "      <td>1399</td>\n",
       "    </tr>\n",
       "    <tr>\n",
       "      <th>PACK OF 72 RETROSPOT CAKE CASES</th>\n",
       "      <td>1370</td>\n",
       "    </tr>\n",
       "    <tr>\n",
       "      <th>LUNCH BAG  BLACK SKULL.</th>\n",
       "      <td>1328</td>\n",
       "    </tr>\n",
       "    <tr>\n",
       "      <th>NATURAL SLATE HEART CHALKBOARD</th>\n",
       "      <td>1263</td>\n",
       "    </tr>\n",
       "  </tbody>\n",
       "</table>\n",
       "</div>"
      ],
      "text/plain": [
       "                                    Quantity\n",
       "Description                                 \n",
       "WHITE HANGING HEART T-LIGHT HOLDER      2323\n",
       "JUMBO BAG RED RETROSPOT                 2112\n",
       "REGENCY CAKESTAND 3 TIER                2017\n",
       "PARTY BUNTING                           1706\n",
       "LUNCH BAG RED RETROSPOT                 1594\n",
       "ASSORTED COLOUR BIRD ORNAMENT           1489\n",
       "SET OF 3 CAKE TINS PANTRY DESIGN        1399\n",
       "PACK OF 72 RETROSPOT CAKE CASES         1370\n",
       "LUNCH BAG  BLACK SKULL.                 1328\n",
       "NATURAL SLATE HEART CHALKBOARD          1263"
      ]
     },
     "execution_count": 31,
     "metadata": {},
     "output_type": "execute_result"
    }
   ],
   "source": [
    "cu_pr=customer_data[['Quantity',\"Description\"]].groupby('Description').count().sort_values(by=\"Quantity\",ascending=False)\n",
    "cu_pr_top=cu_pr.head(10)\n",
    "cu_pr_top"
   ]
  },
  {
   "cell_type": "code",
   "execution_count": 32,
   "id": "94bf3755-72ce-4172-8c53-2585bc53cd2a",
   "metadata": {},
   "outputs": [
    {
     "data": {
      "image/png": "[encoded data removed]",
      "text/plain": [
       "<Figure size 432x288 with 1 Axes>"
      ]
     },
     "metadata": {},
     "output_type": "display_data"
    }
   ],
   "source": [
    "sns.barplot(x =cu_pr_top.index, y = 'Quantity', data=cu_pr_top)\n",
    "plt.title(\"Top ten products purchased by customers based on quantity\")\n",
    "plt.xlabel(\"Product Description\")\n",
    "plt.ylabel(\"Quantity\")\n",
    "plt.xticks(rotation = 90)\n",
    "plt.show()"
   ]
  },
  {
   "cell_type": "markdown",
   "id": "d16ec158-3417-44ed-b2e9-fab23c86aab1",
   "metadata": {},
   "source": [
    "The above graph shows that \"WHITE HANGING HEART T-LIGHT HOLDER\" is the most purchased product followed by \"JUMBO BAG RED RETROSPOT\" and \"REGENCY CAKESTAND 3 TIER\""
   ]
  },
  {
   "cell_type": "code",
   "execution_count": 33,
   "id": "d4e5278b-4435-4393-9b19-eefc5aa3ec53",
   "metadata": {},
   "outputs": [
    {
     "data": {
      "text/html": [
       "<div>\n",
       "<style scoped>\n",
       "    .dataframe tbody tr th:only-of-type {\n",
       "        vertical-align: middle;\n",
       "    }\n",
       "\n",
       "    .dataframe tbody tr th {\n",
       "        vertical-align: top;\n",
       "    }\n",
       "\n",
       "    .dataframe thead th {\n",
       "        text-align: right;\n",
       "    }\n",
       "</style>\n",
       "<table border=\"1\" class=\"dataframe\">\n",
       "  <thead>\n",
       "    <tr style=\"text-align: right;\">\n",
       "      <th></th>\n",
       "      <th>Quantity</th>\n",
       "    </tr>\n",
       "    <tr>\n",
       "      <th>Description</th>\n",
       "      <th></th>\n",
       "    </tr>\n",
       "  </thead>\n",
       "  <tbody>\n",
       "    <tr>\n",
       "      <th>DOLPHIN WINDMILL</th>\n",
       "      <td>1</td>\n",
       "    </tr>\n",
       "    <tr>\n",
       "      <th>MINT DINER CLOCK</th>\n",
       "      <td>1</td>\n",
       "    </tr>\n",
       "    <tr>\n",
       "      <th>WHITE FRANGIPANI HAIR CLIP</th>\n",
       "      <td>1</td>\n",
       "    </tr>\n",
       "    <tr>\n",
       "      <th>BLUE GINGHAM ROSE CUSHION COVER</th>\n",
       "      <td>1</td>\n",
       "    </tr>\n",
       "    <tr>\n",
       "      <th>MISELTOE HEART WREATH CREAM</th>\n",
       "      <td>1</td>\n",
       "    </tr>\n",
       "    <tr>\n",
       "      <th>BLUE DROP EARRINGS W BEAD CLUSTER</th>\n",
       "      <td>1</td>\n",
       "    </tr>\n",
       "    <tr>\n",
       "      <th>SET/6 IVORY BIRD T-LIGHT CANDLES</th>\n",
       "      <td>1</td>\n",
       "    </tr>\n",
       "    <tr>\n",
       "      <th>MUMMY MOUSE RED GINGHAM RIBBON</th>\n",
       "      <td>1</td>\n",
       "    </tr>\n",
       "    <tr>\n",
       "      <th>SET/5 RED SPOTTY LID GLASS BOWLS</th>\n",
       "      <td>1</td>\n",
       "    </tr>\n",
       "    <tr>\n",
       "      <th>*Boombox Ipod Classic</th>\n",
       "      <td>1</td>\n",
       "    </tr>\n",
       "  </tbody>\n",
       "</table>\n",
       "</div>"
      ],
      "text/plain": [
       "                                   Quantity\n",
       "Description                                \n",
       "DOLPHIN WINDMILL                          1\n",
       "MINT DINER CLOCK                          1\n",
       "WHITE FRANGIPANI HAIR CLIP                1\n",
       "BLUE GINGHAM ROSE CUSHION COVER           1\n",
       "MISELTOE HEART WREATH CREAM               1\n",
       "BLUE DROP EARRINGS W BEAD CLUSTER         1\n",
       "SET/6 IVORY BIRD T-LIGHT CANDLES          1\n",
       "MUMMY MOUSE RED GINGHAM RIBBON            1\n",
       "SET/5 RED SPOTTY LID GLASS BOWLS          1\n",
       "*Boombox Ipod Classic                     1"
      ]
     },
     "execution_count": 33,
     "metadata": {},
     "output_type": "execute_result"
    }
   ],
   "source": [
    "cu_pr_least=cu_pr.tail(10)\n",
    "cu_pr_least"
   ]
  },
  {
   "cell_type": "code",
   "execution_count": 34,
   "id": "89d3a8a2-e153-43af-8aa6-cf81a830d147",
   "metadata": {},
   "outputs": [
    {
     "data": {
      "image/png": "[encoded data removed]",
      "text/plain": [
       "<Figure size 432x288 with 1 Axes>"
      ]
     },
     "metadata": {},
     "output_type": "display_data"
    }
   ],
   "source": [
    "sns.barplot(x =cu_pr_least.index, y = 'Quantity', data=cu_pr_top)\n",
    "plt.title(\"Ten least products purchased by customers based on quantity\")\n",
    "plt.xlabel(\"Product Description\")\n",
    "plt.ylabel(\"Quantity\")\n",
    "plt.xticks(rotation = 90)\n",
    "plt.show()"
   ]
  },
  {
   "cell_type": "markdown",
   "id": "1a32d506-1df7-47f9-9191-8752df883e50",
   "metadata": {},
   "source": [
    "DOLPHIN WINDMILL, MINT DINER CLOCK, WHITE FRANGIPANI HAIR CLIP, BLUE GINGHAM ROSE CUSHION COVER, etc are the least purchsed products by customers"
   ]
  },
  {
   "cell_type": "code",
   "execution_count": null,
   "id": "b8a6ed1b-3c88-40b0-9187-45a5201229f7",
   "metadata": {},
   "outputs": [],
   "source": []
  },
  {
   "cell_type": "code",
   "execution_count": 35,
   "id": "f476abdf",
   "metadata": {},
   "outputs": [
    {
     "data": {
      "text/html": [
       "<div>\n",
       "<style scoped>\n",
       "    .dataframe tbody tr th:only-of-type {\n",
       "        vertical-align: middle;\n",
       "    }\n",
       "\n",
       "    .dataframe tbody tr th {\n",
       "        vertical-align: top;\n",
       "    }\n",
       "\n",
       "    .dataframe thead th {\n",
       "        text-align: right;\n",
       "    }\n",
       "</style>\n",
       "<table border=\"1\" class=\"dataframe\">\n",
       "  <thead>\n",
       "    <tr style=\"text-align: right;\">\n",
       "      <th></th>\n",
       "      <th>InvoiceNo</th>\n",
       "      <th>StockCode</th>\n",
       "      <th>Description</th>\n",
       "      <th>Quantity</th>\n",
       "      <th>InvoiceDate</th>\n",
       "      <th>UnitPrice</th>\n",
       "      <th>CustomerID</th>\n",
       "      <th>Country</th>\n",
       "    </tr>\n",
       "  </thead>\n",
       "  <tbody>\n",
       "    <tr>\n",
       "      <th>0</th>\n",
       "      <td>536365</td>\n",
       "      <td>85123A</td>\n",
       "      <td>WHITE HANGING HEART T-LIGHT HOLDER</td>\n",
       "      <td>6</td>\n",
       "      <td>2010-12-01 08:26:00</td>\n",
       "      <td>2.55</td>\n",
       "      <td>17850.0</td>\n",
       "      <td>United Kingdom</td>\n",
       "    </tr>\n",
       "    <tr>\n",
       "      <th>1</th>\n",
       "      <td>536365</td>\n",
       "      <td>71053</td>\n",
       "      <td>WHITE METAL LANTERN</td>\n",
       "      <td>6</td>\n",
       "      <td>2010-12-01 08:26:00</td>\n",
       "      <td>3.39</td>\n",
       "      <td>17850.0</td>\n",
       "      <td>United Kingdom</td>\n",
       "    </tr>\n",
       "    <tr>\n",
       "      <th>2</th>\n",
       "      <td>536365</td>\n",
       "      <td>84406B</td>\n",
       "      <td>CREAM CUPID HEARTS COAT HANGER</td>\n",
       "      <td>8</td>\n",
       "      <td>2010-12-01 08:26:00</td>\n",
       "      <td>2.75</td>\n",
       "      <td>17850.0</td>\n",
       "      <td>United Kingdom</td>\n",
       "    </tr>\n",
       "    <tr>\n",
       "      <th>3</th>\n",
       "      <td>536365</td>\n",
       "      <td>84029G</td>\n",
       "      <td>KNITTED UNION FLAG HOT WATER BOTTLE</td>\n",
       "      <td>6</td>\n",
       "      <td>2010-12-01 08:26:00</td>\n",
       "      <td>3.39</td>\n",
       "      <td>17850.0</td>\n",
       "      <td>United Kingdom</td>\n",
       "    </tr>\n",
       "    <tr>\n",
       "      <th>4</th>\n",
       "      <td>536365</td>\n",
       "      <td>84029E</td>\n",
       "      <td>RED WOOLLY HOTTIE WHITE HEART.</td>\n",
       "      <td>6</td>\n",
       "      <td>2010-12-01 08:26:00</td>\n",
       "      <td>3.39</td>\n",
       "      <td>17850.0</td>\n",
       "      <td>United Kingdom</td>\n",
       "    </tr>\n",
       "  </tbody>\n",
       "</table>\n",
       "</div>"
      ],
      "text/plain": [
       "   InvoiceNo StockCode                          Description  Quantity  \\\n",
       "0     536365    85123A   WHITE HANGING HEART T-LIGHT HOLDER         6   \n",
       "1     536365     71053                  WHITE METAL LANTERN         6   \n",
       "2     536365    84406B       CREAM CUPID HEARTS COAT HANGER         8   \n",
       "3     536365    84029G  KNITTED UNION FLAG HOT WATER BOTTLE         6   \n",
       "4     536365    84029E       RED WOOLLY HOTTIE WHITE HEART.         6   \n",
       "\n",
       "          InvoiceDate  UnitPrice  CustomerID         Country  \n",
       "0 2010-12-01 08:26:00       2.55     17850.0  United Kingdom  \n",
       "1 2010-12-01 08:26:00       3.39     17850.0  United Kingdom  \n",
       "2 2010-12-01 08:26:00       2.75     17850.0  United Kingdom  \n",
       "3 2010-12-01 08:26:00       3.39     17850.0  United Kingdom  \n",
       "4 2010-12-01 08:26:00       3.39     17850.0  United Kingdom  "
      ]
     },
     "execution_count": 35,
     "metadata": {},
     "output_type": "execute_result"
    }
   ],
   "source": [
    "# Since more than 90% of the transactions are done in United Kingdom, we will apply association rules on it.\n",
    "customer_uk = customer_data[customer_data.Country == 'United Kingdom']\n",
    "customer_uk.head()"
   ]
  },
  {
   "cell_type": "code",
   "execution_count": 36,
   "id": "e893a1ce",
   "metadata": {},
   "outputs": [
    {
     "data": {
      "text/plain": [
       "(485122, 8)"
      ]
     },
     "execution_count": 36,
     "metadata": {},
     "output_type": "execute_result"
    }
   ],
   "source": [
    "customer_uk.shape"
   ]
  },
  {
   "cell_type": "code",
   "execution_count": 37,
   "id": "327bbb52-fea9-47a2-8395-aa0770439fc2",
   "metadata": {},
   "outputs": [],
   "source": [
    "#convert data into a format which it require converting using pivot table and Quantity sum as values. fill 0 if any nan values\n",
    "\n",
    "basket_uk= pd.pivot_table(data=customer_uk,index='InvoiceNo',columns='Description',values='Quantity',aggfunc='sum',fill_value=0)"
   ]
  },
  {
   "cell_type": "code",
   "execution_count": 38,
   "id": "973f6793-0af7-411b-9516-f7e564a72560",
   "metadata": {},
   "outputs": [
    {
     "data": {
      "text/html": [
       "<div>\n",
       "<style scoped>\n",
       "    .dataframe tbody tr th:only-of-type {\n",
       "        vertical-align: middle;\n",
       "    }\n",
       "\n",
       "    .dataframe tbody tr th {\n",
       "        vertical-align: top;\n",
       "    }\n",
       "\n",
       "    .dataframe thead th {\n",
       "        text-align: right;\n",
       "    }\n",
       "</style>\n",
       "<table border=\"1\" class=\"dataframe\">\n",
       "  <thead>\n",
       "    <tr style=\"text-align: right;\">\n",
       "      <th>Description</th>\n",
       "      <th>*Boombox Ipod Classic</th>\n",
       "      <th>*USB Office Mirror Ball</th>\n",
       "      <th>10 COLOUR SPACEBOY PEN</th>\n",
       "      <th>12 COLOURED PARTY BALLOONS</th>\n",
       "      <th>12 DAISY PEGS IN WOOD BOX</th>\n",
       "      <th>12 EGG HOUSE PAINTED WOOD</th>\n",
       "      <th>12 HANGING EGGS HAND PAINTED</th>\n",
       "      <th>12 IVORY ROSE PEG PLACE SETTINGS</th>\n",
       "      <th>12 MESSAGE CARDS WITH ENVELOPES</th>\n",
       "      <th>12 PENCIL SMALL TUBE WOODLAND</th>\n",
       "      <th>...</th>\n",
       "      <th>ZINC STAR T-LIGHT HOLDER</th>\n",
       "      <th>ZINC SWEETHEART SOAP DISH</th>\n",
       "      <th>ZINC SWEETHEART WIRE LETTER RACK</th>\n",
       "      <th>ZINC T-LIGHT HOLDER STAR LARGE</th>\n",
       "      <th>ZINC T-LIGHT HOLDER STARS LARGE</th>\n",
       "      <th>ZINC T-LIGHT HOLDER STARS SMALL</th>\n",
       "      <th>ZINC TOP  2 DOOR WOODEN SHELF</th>\n",
       "      <th>ZINC WILLIE WINKIE  CANDLE STICK</th>\n",
       "      <th>ZINC WIRE KITCHEN ORGANISER</th>\n",
       "      <th>ZINC WIRE SWEETHEART LETTER TRAY</th>\n",
       "    </tr>\n",
       "    <tr>\n",
       "      <th>InvoiceNo</th>\n",
       "      <th></th>\n",
       "      <th></th>\n",
       "      <th></th>\n",
       "      <th></th>\n",
       "      <th></th>\n",
       "      <th></th>\n",
       "      <th></th>\n",
       "      <th></th>\n",
       "      <th></th>\n",
       "      <th></th>\n",
       "      <th></th>\n",
       "      <th></th>\n",
       "      <th></th>\n",
       "      <th></th>\n",
       "      <th></th>\n",
       "      <th></th>\n",
       "      <th></th>\n",
       "      <th></th>\n",
       "      <th></th>\n",
       "      <th></th>\n",
       "      <th></th>\n",
       "    </tr>\n",
       "  </thead>\n",
       "  <tbody>\n",
       "    <tr>\n",
       "      <th>564510</th>\n",
       "      <td>0</td>\n",
       "      <td>0</td>\n",
       "      <td>0</td>\n",
       "      <td>0</td>\n",
       "      <td>0</td>\n",
       "      <td>0</td>\n",
       "      <td>0</td>\n",
       "      <td>0</td>\n",
       "      <td>0</td>\n",
       "      <td>0</td>\n",
       "      <td>...</td>\n",
       "      <td>0</td>\n",
       "      <td>0</td>\n",
       "      <td>0</td>\n",
       "      <td>0</td>\n",
       "      <td>0</td>\n",
       "      <td>0</td>\n",
       "      <td>0</td>\n",
       "      <td>0</td>\n",
       "      <td>0</td>\n",
       "      <td>0</td>\n",
       "    </tr>\n",
       "    <tr>\n",
       "      <th>562730</th>\n",
       "      <td>0</td>\n",
       "      <td>0</td>\n",
       "      <td>0</td>\n",
       "      <td>0</td>\n",
       "      <td>0</td>\n",
       "      <td>0</td>\n",
       "      <td>0</td>\n",
       "      <td>0</td>\n",
       "      <td>0</td>\n",
       "      <td>0</td>\n",
       "      <td>...</td>\n",
       "      <td>0</td>\n",
       "      <td>0</td>\n",
       "      <td>0</td>\n",
       "      <td>0</td>\n",
       "      <td>0</td>\n",
       "      <td>0</td>\n",
       "      <td>0</td>\n",
       "      <td>0</td>\n",
       "      <td>0</td>\n",
       "      <td>0</td>\n",
       "    </tr>\n",
       "    <tr>\n",
       "      <th>577402</th>\n",
       "      <td>0</td>\n",
       "      <td>0</td>\n",
       "      <td>0</td>\n",
       "      <td>0</td>\n",
       "      <td>0</td>\n",
       "      <td>0</td>\n",
       "      <td>0</td>\n",
       "      <td>0</td>\n",
       "      <td>0</td>\n",
       "      <td>0</td>\n",
       "      <td>...</td>\n",
       "      <td>0</td>\n",
       "      <td>0</td>\n",
       "      <td>0</td>\n",
       "      <td>0</td>\n",
       "      <td>0</td>\n",
       "      <td>0</td>\n",
       "      <td>0</td>\n",
       "      <td>0</td>\n",
       "      <td>0</td>\n",
       "      <td>0</td>\n",
       "    </tr>\n",
       "    <tr>\n",
       "      <th>575978</th>\n",
       "      <td>0</td>\n",
       "      <td>0</td>\n",
       "      <td>0</td>\n",
       "      <td>0</td>\n",
       "      <td>0</td>\n",
       "      <td>0</td>\n",
       "      <td>0</td>\n",
       "      <td>0</td>\n",
       "      <td>0</td>\n",
       "      <td>0</td>\n",
       "      <td>...</td>\n",
       "      <td>0</td>\n",
       "      <td>0</td>\n",
       "      <td>0</td>\n",
       "      <td>0</td>\n",
       "      <td>0</td>\n",
       "      <td>0</td>\n",
       "      <td>0</td>\n",
       "      <td>0</td>\n",
       "      <td>0</td>\n",
       "      <td>0</td>\n",
       "    </tr>\n",
       "    <tr>\n",
       "      <th>554491</th>\n",
       "      <td>0</td>\n",
       "      <td>0</td>\n",
       "      <td>0</td>\n",
       "      <td>0</td>\n",
       "      <td>0</td>\n",
       "      <td>0</td>\n",
       "      <td>0</td>\n",
       "      <td>0</td>\n",
       "      <td>0</td>\n",
       "      <td>0</td>\n",
       "      <td>...</td>\n",
       "      <td>0</td>\n",
       "      <td>0</td>\n",
       "      <td>0</td>\n",
       "      <td>0</td>\n",
       "      <td>0</td>\n",
       "      <td>0</td>\n",
       "      <td>0</td>\n",
       "      <td>0</td>\n",
       "      <td>0</td>\n",
       "      <td>0</td>\n",
       "    </tr>\n",
       "    <tr>\n",
       "      <th>552271</th>\n",
       "      <td>0</td>\n",
       "      <td>0</td>\n",
       "      <td>0</td>\n",
       "      <td>0</td>\n",
       "      <td>0</td>\n",
       "      <td>0</td>\n",
       "      <td>0</td>\n",
       "      <td>0</td>\n",
       "      <td>0</td>\n",
       "      <td>0</td>\n",
       "      <td>...</td>\n",
       "      <td>0</td>\n",
       "      <td>0</td>\n",
       "      <td>0</td>\n",
       "      <td>0</td>\n",
       "      <td>0</td>\n",
       "      <td>12</td>\n",
       "      <td>0</td>\n",
       "      <td>0</td>\n",
       "      <td>0</td>\n",
       "      <td>0</td>\n",
       "    </tr>\n",
       "    <tr>\n",
       "      <th>558892</th>\n",
       "      <td>0</td>\n",
       "      <td>0</td>\n",
       "      <td>0</td>\n",
       "      <td>0</td>\n",
       "      <td>0</td>\n",
       "      <td>0</td>\n",
       "      <td>0</td>\n",
       "      <td>0</td>\n",
       "      <td>0</td>\n",
       "      <td>0</td>\n",
       "      <td>...</td>\n",
       "      <td>0</td>\n",
       "      <td>0</td>\n",
       "      <td>0</td>\n",
       "      <td>0</td>\n",
       "      <td>0</td>\n",
       "      <td>0</td>\n",
       "      <td>0</td>\n",
       "      <td>0</td>\n",
       "      <td>0</td>\n",
       "      <td>0</td>\n",
       "    </tr>\n",
       "    <tr>\n",
       "      <th>553053</th>\n",
       "      <td>0</td>\n",
       "      <td>0</td>\n",
       "      <td>0</td>\n",
       "      <td>0</td>\n",
       "      <td>0</td>\n",
       "      <td>0</td>\n",
       "      <td>0</td>\n",
       "      <td>0</td>\n",
       "      <td>0</td>\n",
       "      <td>0</td>\n",
       "      <td>...</td>\n",
       "      <td>0</td>\n",
       "      <td>0</td>\n",
       "      <td>0</td>\n",
       "      <td>0</td>\n",
       "      <td>0</td>\n",
       "      <td>0</td>\n",
       "      <td>0</td>\n",
       "      <td>0</td>\n",
       "      <td>0</td>\n",
       "      <td>0</td>\n",
       "    </tr>\n",
       "    <tr>\n",
       "      <th>545715</th>\n",
       "      <td>0</td>\n",
       "      <td>0</td>\n",
       "      <td>0</td>\n",
       "      <td>0</td>\n",
       "      <td>0</td>\n",
       "      <td>0</td>\n",
       "      <td>0</td>\n",
       "      <td>0</td>\n",
       "      <td>0</td>\n",
       "      <td>0</td>\n",
       "      <td>...</td>\n",
       "      <td>0</td>\n",
       "      <td>0</td>\n",
       "      <td>0</td>\n",
       "      <td>0</td>\n",
       "      <td>0</td>\n",
       "      <td>0</td>\n",
       "      <td>0</td>\n",
       "      <td>0</td>\n",
       "      <td>0</td>\n",
       "      <td>0</td>\n",
       "    </tr>\n",
       "    <tr>\n",
       "      <th>552299</th>\n",
       "      <td>0</td>\n",
       "      <td>0</td>\n",
       "      <td>0</td>\n",
       "      <td>0</td>\n",
       "      <td>0</td>\n",
       "      <td>0</td>\n",
       "      <td>0</td>\n",
       "      <td>0</td>\n",
       "      <td>0</td>\n",
       "      <td>0</td>\n",
       "      <td>...</td>\n",
       "      <td>0</td>\n",
       "      <td>0</td>\n",
       "      <td>0</td>\n",
       "      <td>0</td>\n",
       "      <td>0</td>\n",
       "      <td>0</td>\n",
       "      <td>0</td>\n",
       "      <td>0</td>\n",
       "      <td>0</td>\n",
       "      <td>0</td>\n",
       "    </tr>\n",
       "  </tbody>\n",
       "</table>\n",
       "<p>10 rows × 3995 columns</p>\n",
       "</div>"
      ],
      "text/plain": [
       "Description  *Boombox Ipod Classic  *USB Office Mirror Ball  \\\n",
       "InvoiceNo                                                     \n",
       "564510                           0                        0   \n",
       "562730                           0                        0   \n",
       "577402                           0                        0   \n",
       "575978                           0                        0   \n",
       "554491                           0                        0   \n",
       "552271                           0                        0   \n",
       "558892                           0                        0   \n",
       "553053                           0                        0   \n",
       "545715                           0                        0   \n",
       "552299                           0                        0   \n",
       "\n",
       "Description  10 COLOUR SPACEBOY PEN  12 COLOURED PARTY BALLOONS  \\\n",
       "InvoiceNo                                                         \n",
       "564510                            0                           0   \n",
       "562730                            0                           0   \n",
       "577402                            0                           0   \n",
       "575978                            0                           0   \n",
       "554491                            0                           0   \n",
       "552271                            0                           0   \n",
       "558892                            0                           0   \n",
       "553053                            0                           0   \n",
       "545715                            0                           0   \n",
       "552299                            0                           0   \n",
       "\n",
       "Description  12 DAISY PEGS IN WOOD BOX  12 EGG HOUSE PAINTED WOOD  \\\n",
       "InvoiceNo                                                           \n",
       "564510                               0                          0   \n",
       "562730                               0                          0   \n",
       "577402                               0                          0   \n",
       "575978                               0                          0   \n",
       "554491                               0                          0   \n",
       "552271                               0                          0   \n",
       "558892                               0                          0   \n",
       "553053                               0                          0   \n",
       "545715                               0                          0   \n",
       "552299                               0                          0   \n",
       "\n",
       "Description  12 HANGING EGGS HAND PAINTED  12 IVORY ROSE PEG PLACE SETTINGS  \\\n",
       "InvoiceNo                                                                     \n",
       "564510                                  0                                 0   \n",
       "562730                                  0                                 0   \n",
       "577402                                  0                                 0   \n",
       "575978                                  0                                 0   \n",
       "554491                                  0                                 0   \n",
       "552271                                  0                                 0   \n",
       "558892                                  0                                 0   \n",
       "553053                                  0                                 0   \n",
       "545715                                  0                                 0   \n",
       "552299                                  0                                 0   \n",
       "\n",
       "Description  12 MESSAGE CARDS WITH ENVELOPES  12 PENCIL SMALL TUBE WOODLAND  \\\n",
       "InvoiceNo                                                                     \n",
       "564510                                     0                              0   \n",
       "562730                                     0                              0   \n",
       "577402                                     0                              0   \n",
       "575978                                     0                              0   \n",
       "554491                                     0                              0   \n",
       "552271                                     0                              0   \n",
       "558892                                     0                              0   \n",
       "553053                                     0                              0   \n",
       "545715                                     0                              0   \n",
       "552299                                     0                              0   \n",
       "\n",
       "Description  ...  ZINC STAR T-LIGHT HOLDER  ZINC SWEETHEART SOAP DISH  \\\n",
       "InvoiceNo    ...                                                        \n",
       "564510       ...                         0                          0   \n",
       "562730       ...                         0                          0   \n",
       "577402       ...                         0                          0   \n",
       "575978       ...                         0                          0   \n",
       "554491       ...                         0                          0   \n",
       "552271       ...                         0                          0   \n",
       "558892       ...                         0                          0   \n",
       "553053       ...                         0                          0   \n",
       "545715       ...                         0                          0   \n",
       "552299       ...                         0                          0   \n",
       "\n",
       "Description  ZINC SWEETHEART WIRE LETTER RACK  ZINC T-LIGHT HOLDER STAR LARGE  \\\n",
       "InvoiceNo                                                                       \n",
       "564510                                      0                               0   \n",
       "562730                                      0                               0   \n",
       "577402                                      0                               0   \n",
       "575978                                      0                               0   \n",
       "554491                                      0                               0   \n",
       "552271                                      0                               0   \n",
       "558892                                      0                               0   \n",
       "553053                                      0                               0   \n",
       "545715                                      0                               0   \n",
       "552299                                      0                               0   \n",
       "\n",
       "Description  ZINC T-LIGHT HOLDER STARS LARGE  ZINC T-LIGHT HOLDER STARS SMALL  \\\n",
       "InvoiceNo                                                                       \n",
       "564510                                     0                                0   \n",
       "562730                                     0                                0   \n",
       "577402                                     0                                0   \n",
       "575978                                     0                                0   \n",
       "554491                                     0                                0   \n",
       "552271                                     0                               12   \n",
       "558892                                     0                                0   \n",
       "553053                                     0                                0   \n",
       "545715                                     0                                0   \n",
       "552299                                     0                                0   \n",
       "\n",
       "Description  ZINC TOP  2 DOOR WOODEN SHELF  ZINC WILLIE WINKIE  CANDLE STICK  \\\n",
       "InvoiceNo                                                                      \n",
       "564510                                   0                                 0   \n",
       "562730                                   0                                 0   \n",
       "577402                                   0                                 0   \n",
       "575978                                   0                                 0   \n",
       "554491                                   0                                 0   \n",
       "552271                                   0                                 0   \n",
       "558892                                   0                                 0   \n",
       "553053                                   0                                 0   \n",
       "545715                                   0                                 0   \n",
       "552299                                   0                                 0   \n",
       "\n",
       "Description  ZINC WIRE KITCHEN ORGANISER  ZINC WIRE SWEETHEART LETTER TRAY  \n",
       "InvoiceNo                                                                   \n",
       "564510                                 0                                 0  \n",
       "562730                                 0                                 0  \n",
       "577402                                 0                                 0  \n",
       "575978                                 0                                 0  \n",
       "554491                                 0                                 0  \n",
       "552271                                 0                                 0  \n",
       "558892                                 0                                 0  \n",
       "553053                                 0                                 0  \n",
       "545715                                 0                                 0  \n",
       "552299                                 0                                 0  \n",
       "\n",
       "[10 rows x 3995 columns]"
      ]
     },
     "execution_count": 38,
     "metadata": {},
     "output_type": "execute_result"
    }
   ],
   "source": [
    "basket_uk.sample(10)"
   ]
  },
  {
   "cell_type": "code",
   "execution_count": 39,
   "id": "05c6b6b1-8b34-48f1-b9d2-dcf5838c0ecc",
   "metadata": {},
   "outputs": [
    {
     "data": {
      "text/plain": [
       "InvoiceNo\n",
       "536365     0\n",
       "536366     0\n",
       "536367    32\n",
       "536368     0\n",
       "536369     0\n",
       "Name: ASSORTED COLOUR BIRD ORNAMENT, dtype: int64"
      ]
     },
     "execution_count": 39,
     "metadata": {},
     "output_type": "execute_result"
    }
   ],
   "source": [
    "basket_uk['ASSORTED COLOUR BIRD ORNAMENT'].head()"
   ]
  },
  {
   "cell_type": "markdown",
   "id": "723160ad-937d-4c78-b190-dc6600139b04",
   "metadata": {},
   "source": [
    "We don't need the quantity of product. We only need whether the product is purchased by customer or not. "
   ]
  },
  {
   "cell_type": "code",
   "execution_count": 40,
   "id": "9e3685e6-1768-4ee1-b213-40860cf53615",
   "metadata": {},
   "outputs": [],
   "source": [
    "def one_hot_encoding(value):\n",
    "    if value > 0:\n",
    "        return 1\n",
    "    else:\n",
    "        return 0"
   ]
  },
  {
   "cell_type": "code",
   "execution_count": 41,
   "id": "943c9090-668f-48fc-bff1-b878cc56cab8",
   "metadata": {},
   "outputs": [],
   "source": [
    "basket_uk = basket_uk.applymap(one_hot_encoding)"
   ]
  },
  {
   "cell_type": "code",
   "execution_count": 42,
   "id": "f9e19984-1869-4ac5-9cb1-cb63301e30d2",
   "metadata": {},
   "outputs": [
    {
     "data": {
      "text/plain": [
       "InvoiceNo\n",
       "536365    0\n",
       "536366    0\n",
       "536367    1\n",
       "536368    0\n",
       "536369    0\n",
       "Name: ASSORTED COLOUR BIRD ORNAMENT, dtype: int64"
      ]
     },
     "execution_count": 42,
     "metadata": {},
     "output_type": "execute_result"
    }
   ],
   "source": [
    "# The same item shown above has quantity now converted to 1 or 0.\n",
    "basket_uk['ASSORTED COLOUR BIRD ORNAMENT'].head()"
   ]
  },
  {
   "cell_type": "code",
   "execution_count": 43,
   "id": "98ed6fa2-de27-4489-bf6b-ab641ff11c10",
   "metadata": {},
   "outputs": [
    {
     "data": {
      "text/plain": [
       "0    17966\n",
       "1       52\n",
       "Name: POSTAGE, dtype: int64"
      ]
     },
     "execution_count": 43,
     "metadata": {},
     "output_type": "execute_result"
    }
   ],
   "source": [
    "basket_uk['POSTAGE'].value_counts().head(10)"
   ]
  },
  {
   "cell_type": "code",
   "execution_count": 44,
   "id": "9796b67a-7060-4964-a85e-224078e85aa9",
   "metadata": {},
   "outputs": [],
   "source": [
    "basket_uk.drop(columns=['POSTAGE'],inplace=True)"
   ]
  },
  {
   "cell_type": "code",
   "execution_count": 45,
   "id": "effa3853-4de1-4098-9b43-0bbbb2a508b7",
   "metadata": {},
   "outputs": [
    {
     "data": {
      "text/plain": [
       "(18018, 3994)"
      ]
     },
     "execution_count": 45,
     "metadata": {},
     "output_type": "execute_result"
    }
   ],
   "source": [
    "basket_uk.shape"
   ]
  },
  {
   "cell_type": "markdown",
   "id": "a8ce8cd9-0dea-479a-9c8b-fb3a6402e66e",
   "metadata": {},
   "source": [
    "### Applying Apriori algorithm"
   ]
  },
  {
   "cell_type": "code",
   "execution_count": 79,
   "id": "027855cc-f0f3-499a-9617-78171e0b7492",
   "metadata": {},
   "outputs": [
    {
     "name": "stdout",
     "output_type": "stream",
     "text": [
      "Processing 162 combinations | Sampling itemset size 3 2\n"
     ]
    }
   ],
   "source": [
    "#call apriori function and pass minimum support here we are passing 0.03%. means 3 times an item was present in total number of transactions.\n",
    "frequent_itemsets = apriori(basket_uk, min_support=0.03, use_colnames=True, verbose=1)"
   ]
  },
  {
   "cell_type": "code",
   "execution_count": 80,
   "id": "163f2799-ec99-4d4d-a57f-483e03428b94",
   "metadata": {},
   "outputs": [
    {
     "data": {
      "text/html": [
       "<div>\n",
       "<style scoped>\n",
       "    .dataframe tbody tr th:only-of-type {\n",
       "        vertical-align: middle;\n",
       "    }\n",
       "\n",
       "    .dataframe tbody tr th {\n",
       "        vertical-align: top;\n",
       "    }\n",
       "\n",
       "    .dataframe thead th {\n",
       "        text-align: right;\n",
       "    }\n",
       "</style>\n",
       "<table border=\"1\" class=\"dataframe\">\n",
       "  <thead>\n",
       "    <tr style=\"text-align: right;\">\n",
       "      <th></th>\n",
       "      <th>support</th>\n",
       "      <th>itemsets</th>\n",
       "    </tr>\n",
       "  </thead>\n",
       "  <tbody>\n",
       "    <tr>\n",
       "      <th>0</th>\n",
       "      <td>0.047453</td>\n",
       "      <td>(6 RIBBONS RUSTIC CHARM)</td>\n",
       "    </tr>\n",
       "    <tr>\n",
       "      <th>1</th>\n",
       "      <td>0.032246</td>\n",
       "      <td>(60 CAKE CASES VINTAGE CHRISTMAS)</td>\n",
       "    </tr>\n",
       "    <tr>\n",
       "      <th>2</th>\n",
       "      <td>0.041792</td>\n",
       "      <td>(60 TEATIME FAIRY CAKE CASES)</td>\n",
       "    </tr>\n",
       "    <tr>\n",
       "      <th>3</th>\n",
       "      <td>0.030803</td>\n",
       "      <td>(72 SWEETHEART FAIRY CAKE CASES)</td>\n",
       "    </tr>\n",
       "    <tr>\n",
       "      <th>4</th>\n",
       "      <td>0.048618</td>\n",
       "      <td>(ALARM CLOCK BAKELIKE GREEN)</td>\n",
       "    </tr>\n",
       "  </tbody>\n",
       "</table>\n",
       "</div>"
      ],
      "text/plain": [
       "    support                           itemsets\n",
       "0  0.047453           (6 RIBBONS RUSTIC CHARM)\n",
       "1  0.032246  (60 CAKE CASES VINTAGE CHRISTMAS)\n",
       "2  0.041792      (60 TEATIME FAIRY CAKE CASES)\n",
       "3  0.030803   (72 SWEETHEART FAIRY CAKE CASES)\n",
       "4  0.048618       (ALARM CLOCK BAKELIKE GREEN)"
      ]
     },
     "execution_count": 80,
     "metadata": {},
     "output_type": "execute_result"
    }
   ],
   "source": [
    "#it will generate frequent itemsets using two step approch\n",
    "frequent_itemsets.head()"
   ]
  },
  {
   "cell_type": "code",
   "execution_count": 81,
   "id": "a5fc933c-f2cf-4387-81a2-1f61e09adeb2",
   "metadata": {},
   "outputs": [
    {
     "data": {
      "text/html": [
       "<div>\n",
       "<style scoped>\n",
       "    .dataframe tbody tr th:only-of-type {\n",
       "        vertical-align: middle;\n",
       "    }\n",
       "\n",
       "    .dataframe tbody tr th {\n",
       "        vertical-align: top;\n",
       "    }\n",
       "\n",
       "    .dataframe thead th {\n",
       "        text-align: right;\n",
       "    }\n",
       "</style>\n",
       "<table border=\"1\" class=\"dataframe\">\n",
       "  <thead>\n",
       "    <tr style=\"text-align: right;\">\n",
       "      <th></th>\n",
       "      <th>antecedents</th>\n",
       "      <th>consequents</th>\n",
       "      <th>antecedent support</th>\n",
       "      <th>consequent support</th>\n",
       "      <th>support</th>\n",
       "      <th>confidence</th>\n",
       "      <th>lift</th>\n",
       "      <th>leverage</th>\n",
       "      <th>conviction</th>\n",
       "    </tr>\n",
       "  </thead>\n",
       "  <tbody>\n",
       "    <tr>\n",
       "      <th>0</th>\n",
       "      <td>(ALARM CLOCK BAKELIKE GREEN)</td>\n",
       "      <td>(ALARM CLOCK BAKELIKE RED)</td>\n",
       "      <td>0.048618</td>\n",
       "      <td>0.051615</td>\n",
       "      <td>0.031247</td>\n",
       "      <td>0.642694</td>\n",
       "      <td>12.451679</td>\n",
       "      <td>0.028737</td>\n",
       "      <td>2.654266</td>\n",
       "    </tr>\n",
       "    <tr>\n",
       "      <th>1</th>\n",
       "      <td>(ALARM CLOCK BAKELIKE RED)</td>\n",
       "      <td>(ALARM CLOCK BAKELIKE GREEN)</td>\n",
       "      <td>0.051615</td>\n",
       "      <td>0.048618</td>\n",
       "      <td>0.031247</td>\n",
       "      <td>0.605376</td>\n",
       "      <td>12.451679</td>\n",
       "      <td>0.028737</td>\n",
       "      <td>2.410859</td>\n",
       "    </tr>\n",
       "    <tr>\n",
       "      <th>2</th>\n",
       "      <td>(GARDENERS KNEELING PAD CUP OF TEA)</td>\n",
       "      <td>(GARDENERS KNEELING PAD KEEP CALM)</td>\n",
       "      <td>0.041625</td>\n",
       "      <td>0.049839</td>\n",
       "      <td>0.030026</td>\n",
       "      <td>0.721333</td>\n",
       "      <td>14.473256</td>\n",
       "      <td>0.027951</td>\n",
       "      <td>3.409668</td>\n",
       "    </tr>\n",
       "    <tr>\n",
       "      <th>3</th>\n",
       "      <td>(GARDENERS KNEELING PAD KEEP CALM)</td>\n",
       "      <td>(GARDENERS KNEELING PAD CUP OF TEA)</td>\n",
       "      <td>0.049839</td>\n",
       "      <td>0.041625</td>\n",
       "      <td>0.030026</td>\n",
       "      <td>0.602450</td>\n",
       "      <td>14.473256</td>\n",
       "      <td>0.027951</td>\n",
       "      <td>2.410702</td>\n",
       "    </tr>\n",
       "    <tr>\n",
       "      <th>4</th>\n",
       "      <td>(PINK REGENCY TEACUP AND SAUCER)</td>\n",
       "      <td>(GREEN REGENCY TEACUP AND SAUCER)</td>\n",
       "      <td>0.038961</td>\n",
       "      <td>0.051726</td>\n",
       "      <td>0.031968</td>\n",
       "      <td>0.820513</td>\n",
       "      <td>15.862661</td>\n",
       "      <td>0.029953</td>\n",
       "      <td>5.283241</td>\n",
       "    </tr>\n",
       "  </tbody>\n",
       "</table>\n",
       "</div>"
      ],
      "text/plain": [
       "                           antecedents                          consequents  \\\n",
       "0         (ALARM CLOCK BAKELIKE GREEN)           (ALARM CLOCK BAKELIKE RED)   \n",
       "1           (ALARM CLOCK BAKELIKE RED)         (ALARM CLOCK BAKELIKE GREEN)   \n",
       "2  (GARDENERS KNEELING PAD CUP OF TEA)   (GARDENERS KNEELING PAD KEEP CALM)   \n",
       "3   (GARDENERS KNEELING PAD KEEP CALM)  (GARDENERS KNEELING PAD CUP OF TEA)   \n",
       "4     (PINK REGENCY TEACUP AND SAUCER)    (GREEN REGENCY TEACUP AND SAUCER)   \n",
       "\n",
       "   antecedent support  consequent support   support  confidence       lift  \\\n",
       "0            0.048618            0.051615  0.031247    0.642694  12.451679   \n",
       "1            0.051615            0.048618  0.031247    0.605376  12.451679   \n",
       "2            0.041625            0.049839  0.030026    0.721333  14.473256   \n",
       "3            0.049839            0.041625  0.030026    0.602450  14.473256   \n",
       "4            0.038961            0.051726  0.031968    0.820513  15.862661   \n",
       "\n",
       "   leverage  conviction  \n",
       "0  0.028737    2.654266  \n",
       "1  0.028737    2.410859  \n",
       "2  0.027951    3.409668  \n",
       "3  0.027951    2.410702  \n",
       "4  0.029953    5.283241  "
      ]
     },
     "execution_count": 81,
     "metadata": {},
     "output_type": "execute_result"
    }
   ],
   "source": [
    "rules_apriori = association_rules(frequent_itemsets, metric=\"confidence\", min_threshold=0.6)\n",
    "rules_apriori.head()"
   ]
  },
  {
   "cell_type": "code",
   "execution_count": 96,
   "id": "618375df-91c6-4785-a536-06ddbc8f9792",
   "metadata": {},
   "outputs": [
    {
     "data": {
      "text/html": [
       "<div>\n",
       "<style scoped>\n",
       "    .dataframe tbody tr th:only-of-type {\n",
       "        vertical-align: middle;\n",
       "    }\n",
       "\n",
       "    .dataframe tbody tr th {\n",
       "        vertical-align: top;\n",
       "    }\n",
       "\n",
       "    .dataframe thead th {\n",
       "        text-align: right;\n",
       "    }\n",
       "</style>\n",
       "<table border=\"1\" class=\"dataframe\">\n",
       "  <thead>\n",
       "    <tr style=\"text-align: right;\">\n",
       "      <th></th>\n",
       "      <th>antecedents</th>\n",
       "      <th>consequents</th>\n",
       "      <th>support</th>\n",
       "      <th>confidence</th>\n",
       "      <th>lift</th>\n",
       "    </tr>\n",
       "  </thead>\n",
       "  <tbody>\n",
       "    <tr>\n",
       "      <th>4</th>\n",
       "      <td>(PINK REGENCY TEACUP AND SAUCER)</td>\n",
       "      <td>(GREEN REGENCY TEACUP AND SAUCER)</td>\n",
       "      <td>0.031968</td>\n",
       "      <td>0.820513</td>\n",
       "      <td>15.862661</td>\n",
       "    </tr>\n",
       "    <tr>\n",
       "      <th>5</th>\n",
       "      <td>(GREEN REGENCY TEACUP AND SAUCER)</td>\n",
       "      <td>(PINK REGENCY TEACUP AND SAUCER)</td>\n",
       "      <td>0.031968</td>\n",
       "      <td>0.618026</td>\n",
       "      <td>15.862661</td>\n",
       "    </tr>\n",
       "    <tr>\n",
       "      <th>11</th>\n",
       "      <td>(PINK REGENCY TEACUP AND SAUCER)</td>\n",
       "      <td>(ROSES REGENCY TEACUP AND SAUCER)</td>\n",
       "      <td>0.030248</td>\n",
       "      <td>0.776353</td>\n",
       "      <td>14.632148</td>\n",
       "    </tr>\n",
       "    <tr>\n",
       "      <th>2</th>\n",
       "      <td>(GARDENERS KNEELING PAD CUP OF TEA)</td>\n",
       "      <td>(GARDENERS KNEELING PAD KEEP CALM)</td>\n",
       "      <td>0.030026</td>\n",
       "      <td>0.721333</td>\n",
       "      <td>14.473256</td>\n",
       "    </tr>\n",
       "    <tr>\n",
       "      <th>3</th>\n",
       "      <td>(GARDENERS KNEELING PAD KEEP CALM)</td>\n",
       "      <td>(GARDENERS KNEELING PAD CUP OF TEA)</td>\n",
       "      <td>0.030026</td>\n",
       "      <td>0.602450</td>\n",
       "      <td>14.473256</td>\n",
       "    </tr>\n",
       "    <tr>\n",
       "      <th>6</th>\n",
       "      <td>(GREEN REGENCY TEACUP AND SAUCER)</td>\n",
       "      <td>(ROSES REGENCY TEACUP AND SAUCER)</td>\n",
       "      <td>0.038850</td>\n",
       "      <td>0.751073</td>\n",
       "      <td>14.155683</td>\n",
       "    </tr>\n",
       "    <tr>\n",
       "      <th>7</th>\n",
       "      <td>(ROSES REGENCY TEACUP AND SAUCER)</td>\n",
       "      <td>(GREEN REGENCY TEACUP AND SAUCER)</td>\n",
       "      <td>0.038850</td>\n",
       "      <td>0.732218</td>\n",
       "      <td>14.155683</td>\n",
       "    </tr>\n",
       "    <tr>\n",
       "      <th>0</th>\n",
       "      <td>(ALARM CLOCK BAKELIKE GREEN)</td>\n",
       "      <td>(ALARM CLOCK BAKELIKE RED)</td>\n",
       "      <td>0.031247</td>\n",
       "      <td>0.642694</td>\n",
       "      <td>12.451679</td>\n",
       "    </tr>\n",
       "    <tr>\n",
       "      <th>1</th>\n",
       "      <td>(ALARM CLOCK BAKELIKE RED)</td>\n",
       "      <td>(ALARM CLOCK BAKELIKE GREEN)</td>\n",
       "      <td>0.031247</td>\n",
       "      <td>0.605376</td>\n",
       "      <td>12.451679</td>\n",
       "    </tr>\n",
       "    <tr>\n",
       "      <th>9</th>\n",
       "      <td>(JUMBO BAG PINK POLKADOT)</td>\n",
       "      <td>(JUMBO BAG RED RETROSPOT)</td>\n",
       "      <td>0.043568</td>\n",
       "      <td>0.677308</td>\n",
       "      <td>6.306840</td>\n",
       "    </tr>\n",
       "  </tbody>\n",
       "</table>\n",
       "</div>"
      ],
      "text/plain": [
       "                            antecedents                          consequents  \\\n",
       "4      (PINK REGENCY TEACUP AND SAUCER)    (GREEN REGENCY TEACUP AND SAUCER)   \n",
       "5     (GREEN REGENCY TEACUP AND SAUCER)     (PINK REGENCY TEACUP AND SAUCER)   \n",
       "11     (PINK REGENCY TEACUP AND SAUCER)    (ROSES REGENCY TEACUP AND SAUCER)   \n",
       "2   (GARDENERS KNEELING PAD CUP OF TEA)   (GARDENERS KNEELING PAD KEEP CALM)   \n",
       "3    (GARDENERS KNEELING PAD KEEP CALM)  (GARDENERS KNEELING PAD CUP OF TEA)   \n",
       "6     (GREEN REGENCY TEACUP AND SAUCER)    (ROSES REGENCY TEACUP AND SAUCER)   \n",
       "7     (ROSES REGENCY TEACUP AND SAUCER)    (GREEN REGENCY TEACUP AND SAUCER)   \n",
       "0          (ALARM CLOCK BAKELIKE GREEN)           (ALARM CLOCK BAKELIKE RED)   \n",
       "1            (ALARM CLOCK BAKELIKE RED)         (ALARM CLOCK BAKELIKE GREEN)   \n",
       "9             (JUMBO BAG PINK POLKADOT)            (JUMBO BAG RED RETROSPOT)   \n",
       "\n",
       "     support  confidence       lift  \n",
       "4   0.031968    0.820513  15.862661  \n",
       "5   0.031968    0.618026  15.862661  \n",
       "11  0.030248    0.776353  14.632148  \n",
       "2   0.030026    0.721333  14.473256  \n",
       "3   0.030026    0.602450  14.473256  \n",
       "6   0.038850    0.751073  14.155683  \n",
       "7   0.038850    0.732218  14.155683  \n",
       "0   0.031247    0.642694  12.451679  \n",
       "1   0.031247    0.605376  12.451679  \n",
       "9   0.043568    0.677308   6.306840  "
      ]
     },
     "execution_count": 96,
     "metadata": {},
     "output_type": "execute_result"
    }
   ],
   "source": [
    "rules_apriori[['antecedents', 'consequents', 'support', 'confidence', 'lift']].sort_values('lift', ascending=False).head(10)"
   ]
  },
  {
   "cell_type": "code",
   "execution_count": 83,
   "id": "78e6ebc0-0355-4b58-88ff-21df437bd878",
   "metadata": {},
   "outputs": [
    {
     "data": {
      "image/png": "[encoded data removed]",
      "text/plain": [
       "<Figure size 1008x576 with 2 Axes>"
      ]
     },
     "metadata": {
      "needs_background": "light"
     },
     "output_type": "display_data"
    }
   ],
   "source": [
    "# Visualizing the rules distribution color mapped by Lift\n",
    "plt.figure(figsize=(14, 8))\n",
    "plt.scatter(rules_apriori['support'], rules_apriori['confidence'], c=rules_apriori['lift'], alpha=0.5, cmap='YlOrRd');\n",
    "plt.title('Rules distribution color mapped by lift');\n",
    "plt.xlabel('Support')\n",
    "plt.ylabel('Confidence')\n",
    "plt.colorbar();"
   ]
  },
  {
   "cell_type": "markdown",
   "id": "bc5bf0dd-db20-4ee5-aed4-fb067deb2461",
   "metadata": {},
   "source": [
    "### Applying FP Growth Algorithm"
   ]
  },
  {
   "cell_type": "code",
   "execution_count": 70,
   "id": "3346ba75-ae64-437a-bcc7-88147f2fcd0b",
   "metadata": {},
   "outputs": [
    {
     "data": {
      "text/html": [
       "<div>\n",
       "<style scoped>\n",
       "    .dataframe tbody tr th:only-of-type {\n",
       "        vertical-align: middle;\n",
       "    }\n",
       "\n",
       "    .dataframe tbody tr th {\n",
       "        vertical-align: top;\n",
       "    }\n",
       "\n",
       "    .dataframe thead th {\n",
       "        text-align: right;\n",
       "    }\n",
       "</style>\n",
       "<table border=\"1\" class=\"dataframe\">\n",
       "  <thead>\n",
       "    <tr style=\"text-align: right;\">\n",
       "      <th></th>\n",
       "      <th>support</th>\n",
       "      <th>itemsets</th>\n",
       "    </tr>\n",
       "  </thead>\n",
       "  <tbody>\n",
       "    <tr>\n",
       "      <th>0</th>\n",
       "      <td>0.119991</td>\n",
       "      <td>(WHITE HANGING HEART T-LIGHT HOLDER)</td>\n",
       "    </tr>\n",
       "    <tr>\n",
       "      <th>1</th>\n",
       "      <td>0.024864</td>\n",
       "      <td>(KNITTED UNION FLAG HOT WATER BOTTLE)</td>\n",
       "    </tr>\n",
       "    <tr>\n",
       "      <th>2</th>\n",
       "      <td>0.022811</td>\n",
       "      <td>(RED WOOLLY HOTTIE WHITE HEART.)</td>\n",
       "    </tr>\n",
       "    <tr>\n",
       "      <th>3</th>\n",
       "      <td>0.018870</td>\n",
       "      <td>(SET 7 BABUSHKA NESTING BOXES)</td>\n",
       "    </tr>\n",
       "    <tr>\n",
       "      <th>4</th>\n",
       "      <td>0.016428</td>\n",
       "      <td>(WHITE METAL LANTERN)</td>\n",
       "    </tr>\n",
       "    <tr>\n",
       "      <th>...</th>\n",
       "      <td>...</td>\n",
       "      <td>...</td>\n",
       "    </tr>\n",
       "    <tr>\n",
       "      <th>369344</th>\n",
       "      <td>0.003275</td>\n",
       "      <td>(LUNCH BAG RED VINTAGE DOILY, VINTAGE DOILY JU...</td>\n",
       "    </tr>\n",
       "    <tr>\n",
       "      <th>369345</th>\n",
       "      <td>0.003108</td>\n",
       "      <td>(LUNCH BAG PAISLEY PARK, LUNCH BAG RED VINTAGE...</td>\n",
       "    </tr>\n",
       "    <tr>\n",
       "      <th>369346</th>\n",
       "      <td>0.003275</td>\n",
       "      <td>(BICYCLE PUNCTURE REPAIR KIT, CLASSIC CHROME B...</td>\n",
       "    </tr>\n",
       "    <tr>\n",
       "      <th>369347</th>\n",
       "      <td>0.004163</td>\n",
       "      <td>(CLASSIC BICYCLE CLIPS, BICYCLE PUNCTURE REPAI...</td>\n",
       "    </tr>\n",
       "    <tr>\n",
       "      <th>369348</th>\n",
       "      <td>0.003441</td>\n",
       "      <td>(CLASSIC BICYCLE CLIPS, CLASSIC CHROME BICYCLE...</td>\n",
       "    </tr>\n",
       "  </tbody>\n",
       "</table>\n",
       "<p>369349 rows × 2 columns</p>\n",
       "</div>"
      ],
      "text/plain": [
       "         support                                           itemsets\n",
       "0       0.119991               (WHITE HANGING HEART T-LIGHT HOLDER)\n",
       "1       0.024864              (KNITTED UNION FLAG HOT WATER BOTTLE)\n",
       "2       0.022811                   (RED WOOLLY HOTTIE WHITE HEART.)\n",
       "3       0.018870                     (SET 7 BABUSHKA NESTING BOXES)\n",
       "4       0.016428                              (WHITE METAL LANTERN)\n",
       "...          ...                                                ...\n",
       "369344  0.003275  (LUNCH BAG RED VINTAGE DOILY, VINTAGE DOILY JU...\n",
       "369345  0.003108  (LUNCH BAG PAISLEY PARK, LUNCH BAG RED VINTAGE...\n",
       "369346  0.003275  (BICYCLE PUNCTURE REPAIR KIT, CLASSIC CHROME B...\n",
       "369347  0.004163  (CLASSIC BICYCLE CLIPS, BICYCLE PUNCTURE REPAI...\n",
       "369348  0.003441  (CLASSIC BICYCLE CLIPS, CLASSIC CHROME BICYCLE...\n",
       "\n",
       "[369349 rows x 2 columns]"
      ]
     },
     "execution_count": 70,
     "metadata": {},
     "output_type": "execute_result"
    }
   ],
   "source": [
    "# compute the frequent itemsets using fpgrowth from mlxtend\n",
    "# min_support is calculated based on the occurance of the product divided by total number of transactions\n",
    "# For example, Product A occurs 10 times in a day and in week it occurs 70 times which is divided by total transactions (18018) i.e. 0.003\n",
    "\n",
    "frequent_itemsets = fpgrowth(basket_uk, min_support=0.003, use_colnames = True)\n",
    "\n",
    "# print the frequent itemsets\n",
    "frequent_itemsets"
   ]
  },
  {
   "cell_type": "code",
   "execution_count": 75,
   "id": "cf77715c-fbe9-4dff-9526-2d141ff665fc",
   "metadata": {},
   "outputs": [
    {
     "data": {
      "text/html": [
       "<div>\n",
       "<style scoped>\n",
       "    .dataframe tbody tr th:only-of-type {\n",
       "        vertical-align: middle;\n",
       "    }\n",
       "\n",
       "    .dataframe tbody tr th {\n",
       "        vertical-align: top;\n",
       "    }\n",
       "\n",
       "    .dataframe thead th {\n",
       "        text-align: right;\n",
       "    }\n",
       "</style>\n",
       "<table border=\"1\" class=\"dataframe\">\n",
       "  <thead>\n",
       "    <tr style=\"text-align: right;\">\n",
       "      <th></th>\n",
       "      <th>antecedents</th>\n",
       "      <th>consequents</th>\n",
       "      <th>antecedent support</th>\n",
       "      <th>consequent support</th>\n",
       "      <th>support</th>\n",
       "      <th>confidence</th>\n",
       "      <th>lift</th>\n",
       "      <th>leverage</th>\n",
       "      <th>conviction</th>\n",
       "    </tr>\n",
       "  </thead>\n",
       "  <tbody>\n",
       "    <tr>\n",
       "      <th>0</th>\n",
       "      <td>(WOODEN PICTURE FRAME WHITE FINISH, KNITTED UN...</td>\n",
       "      <td>(WHITE HANGING HEART T-LIGHT HOLDER)</td>\n",
       "      <td>0.004773</td>\n",
       "      <td>0.119991</td>\n",
       "      <td>0.003164</td>\n",
       "      <td>0.662791</td>\n",
       "      <td>5.523665</td>\n",
       "      <td>0.002591</td>\n",
       "      <td>2.609682</td>\n",
       "    </tr>\n",
       "    <tr>\n",
       "      <th>1</th>\n",
       "      <td>(KNITTED UNION FLAG HOT WATER BOTTLE, RETROSPO...</td>\n",
       "      <td>(CHOCOLATE HOT WATER BOTTLE)</td>\n",
       "      <td>0.005828</td>\n",
       "      <td>0.045510</td>\n",
       "      <td>0.003996</td>\n",
       "      <td>0.685714</td>\n",
       "      <td>15.067317</td>\n",
       "      <td>0.003731</td>\n",
       "      <td>3.037013</td>\n",
       "    </tr>\n",
       "    <tr>\n",
       "      <th>2</th>\n",
       "      <td>(PAPER CHAIN KIT VINTAGE CHRISTMAS, KNITTED UN...</td>\n",
       "      <td>(PAPER CHAIN KIT 50'S CHRISTMAS)</td>\n",
       "      <td>0.004607</td>\n",
       "      <td>0.062438</td>\n",
       "      <td>0.004052</td>\n",
       "      <td>0.879518</td>\n",
       "      <td>14.086361</td>\n",
       "      <td>0.003764</td>\n",
       "      <td>7.781768</td>\n",
       "    </tr>\n",
       "    <tr>\n",
       "      <th>3</th>\n",
       "      <td>(KNITTED UNION FLAG HOT WATER BOTTLE, PAPER CH...</td>\n",
       "      <td>(PAPER CHAIN KIT VINTAGE CHRISTMAS)</td>\n",
       "      <td>0.006216</td>\n",
       "      <td>0.044400</td>\n",
       "      <td>0.004052</td>\n",
       "      <td>0.651786</td>\n",
       "      <td>14.679844</td>\n",
       "      <td>0.003776</td>\n",
       "      <td>2.744287</td>\n",
       "    </tr>\n",
       "    <tr>\n",
       "      <th>4</th>\n",
       "      <td>(JAM MAKING SET PRINTED, KNITTED UNION FLAG HO...</td>\n",
       "      <td>(JUMBO BAG RED RETROSPOT)</td>\n",
       "      <td>0.004329</td>\n",
       "      <td>0.107393</td>\n",
       "      <td>0.003108</td>\n",
       "      <td>0.717949</td>\n",
       "      <td>6.685271</td>\n",
       "      <td>0.002643</td>\n",
       "      <td>3.164699</td>\n",
       "    </tr>\n",
       "  </tbody>\n",
       "</table>\n",
       "</div>"
      ],
      "text/plain": [
       "                                         antecedents  \\\n",
       "0  (WOODEN PICTURE FRAME WHITE FINISH, KNITTED UN...   \n",
       "1  (KNITTED UNION FLAG HOT WATER BOTTLE, RETROSPO...   \n",
       "2  (PAPER CHAIN KIT VINTAGE CHRISTMAS, KNITTED UN...   \n",
       "3  (KNITTED UNION FLAG HOT WATER BOTTLE, PAPER CH...   \n",
       "4  (JAM MAKING SET PRINTED, KNITTED UNION FLAG HO...   \n",
       "\n",
       "                            consequents  antecedent support  \\\n",
       "0  (WHITE HANGING HEART T-LIGHT HOLDER)            0.004773   \n",
       "1          (CHOCOLATE HOT WATER BOTTLE)            0.005828   \n",
       "2      (PAPER CHAIN KIT 50'S CHRISTMAS)            0.004607   \n",
       "3   (PAPER CHAIN KIT VINTAGE CHRISTMAS)            0.006216   \n",
       "4             (JUMBO BAG RED RETROSPOT)            0.004329   \n",
       "\n",
       "   consequent support   support  confidence       lift  leverage  conviction  \n",
       "0            0.119991  0.003164    0.662791   5.523665  0.002591    2.609682  \n",
       "1            0.045510  0.003996    0.685714  15.067317  0.003731    3.037013  \n",
       "2            0.062438  0.004052    0.879518  14.086361  0.003764    7.781768  \n",
       "3            0.044400  0.004052    0.651786  14.679844  0.003776    2.744287  \n",
       "4            0.107393  0.003108    0.717949   6.685271  0.002643    3.164699  "
      ]
     },
     "execution_count": 75,
     "metadata": {},
     "output_type": "execute_result"
    }
   ],
   "source": [
    "# Compute the association rules based on the frequent itemsets\n",
    "\n",
    "\n",
    "# compute and print the association rules\n",
    "rules_fp_growth=association_rules(frequent_itemsets, metric=\"confidence\", min_threshold=0.6)\n",
    "rules_fp_growth.head()"
   ]
  },
  {
   "cell_type": "code",
   "execution_count": 95,
   "id": "4b9e671c-cdc5-4c64-a08f-0dbbf7dd0b0e",
   "metadata": {},
   "outputs": [
    {
     "data": {
      "text/html": [
       "<div>\n",
       "<style scoped>\n",
       "    .dataframe tbody tr th:only-of-type {\n",
       "        vertical-align: middle;\n",
       "    }\n",
       "\n",
       "    .dataframe tbody tr th {\n",
       "        vertical-align: top;\n",
       "    }\n",
       "\n",
       "    .dataframe thead th {\n",
       "        text-align: right;\n",
       "    }\n",
       "</style>\n",
       "<table border=\"1\" class=\"dataframe\">\n",
       "  <thead>\n",
       "    <tr style=\"text-align: right;\">\n",
       "      <th></th>\n",
       "      <th>antecedents</th>\n",
       "      <th>consequents</th>\n",
       "      <th>support</th>\n",
       "      <th>confidence</th>\n",
       "      <th>lift</th>\n",
       "    </tr>\n",
       "  </thead>\n",
       "  <tbody>\n",
       "    <tr>\n",
       "      <th>1186888</th>\n",
       "      <td>(RED RETROSPOT PEG BAG, ROUND SNACK BOXES SET ...</td>\n",
       "      <td>(RED RETROSPOT CHARLOTTE BAG, CHARLOTTE BAG SU...</td>\n",
       "      <td>0.003053</td>\n",
       "      <td>0.901639</td>\n",
       "      <td>270.762295</td>\n",
       "    </tr>\n",
       "    <tr>\n",
       "      <th>1186430</th>\n",
       "      <td>(RED RETROSPOT CHARLOTTE BAG, CHARLOTTE BAG SU...</td>\n",
       "      <td>(RED RETROSPOT PEG BAG, ROUND SNACK BOXES SET ...</td>\n",
       "      <td>0.003053</td>\n",
       "      <td>0.916667</td>\n",
       "      <td>270.762295</td>\n",
       "    </tr>\n",
       "    <tr>\n",
       "      <th>1186376</th>\n",
       "      <td>(RED RETROSPOT CHARLOTTE BAG, ROUND SNACK BOXE...</td>\n",
       "      <td>(RED RETROSPOT PEG BAG, CHILLI LIGHTS, STRAWBE...</td>\n",
       "      <td>0.003053</td>\n",
       "      <td>0.948276</td>\n",
       "      <td>266.969289</td>\n",
       "    </tr>\n",
       "    <tr>\n",
       "      <th>1186942</th>\n",
       "      <td>(RED RETROSPOT PEG BAG, CHILLI LIGHTS, STRAWBE...</td>\n",
       "      <td>(RED RETROSPOT CHARLOTTE BAG, ROUND SNACK BOXE...</td>\n",
       "      <td>0.003053</td>\n",
       "      <td>0.859375</td>\n",
       "      <td>266.969289</td>\n",
       "    </tr>\n",
       "    <tr>\n",
       "      <th>1186931</th>\n",
       "      <td>(RED RETROSPOT PEG BAG, CHARLOTTE BAG SUKI DES...</td>\n",
       "      <td>(RED RETROSPOT CHARLOTTE BAG, ROUND SNACK BOXE...</td>\n",
       "      <td>0.003053</td>\n",
       "      <td>0.873016</td>\n",
       "      <td>266.610169</td>\n",
       "    </tr>\n",
       "    <tr>\n",
       "      <th>1186387</th>\n",
       "      <td>(RED RETROSPOT CHARLOTTE BAG, ROUND SNACK BOXE...</td>\n",
       "      <td>(RED RETROSPOT PEG BAG, CHARLOTTE BAG SUKI DES...</td>\n",
       "      <td>0.003053</td>\n",
       "      <td>0.932203</td>\n",
       "      <td>266.610169</td>\n",
       "    </tr>\n",
       "    <tr>\n",
       "      <th>1186907</th>\n",
       "      <td>(RED RETROSPOT PEG BAG, ROUND SNACK BOXES SET ...</td>\n",
       "      <td>(RED RETROSPOT CHARLOTTE BAG, CHARLOTTE BAG SU...</td>\n",
       "      <td>0.003053</td>\n",
       "      <td>0.916667</td>\n",
       "      <td>266.395161</td>\n",
       "    </tr>\n",
       "    <tr>\n",
       "      <th>1184190</th>\n",
       "      <td>(RED RETROSPOT CHARLOTTE BAG, CHARLOTTE BAG SU...</td>\n",
       "      <td>(RED RETROSPOT PEG BAG, STRAWBERRY CHARLOTTE B...</td>\n",
       "      <td>0.003053</td>\n",
       "      <td>0.916667</td>\n",
       "      <td>266.395161</td>\n",
       "    </tr>\n",
       "    <tr>\n",
       "      <th>1187194</th>\n",
       "      <td>(RED RETROSPOT PEG BAG, STRAWBERRY CHARLOTTE B...</td>\n",
       "      <td>(RED RETROSPOT CHARLOTTE BAG, WOODLAND CHARLOT...</td>\n",
       "      <td>0.003053</td>\n",
       "      <td>0.887097</td>\n",
       "      <td>266.395161</td>\n",
       "    </tr>\n",
       "    <tr>\n",
       "      <th>1186075</th>\n",
       "      <td>(RED RETROSPOT CHARLOTTE BAG, CHARLOTTE BAG SU...</td>\n",
       "      <td>(RED RETROSPOT PEG BAG, ROUND SNACK BOXES SET ...</td>\n",
       "      <td>0.003053</td>\n",
       "      <td>0.916667</td>\n",
       "      <td>266.395161</td>\n",
       "    </tr>\n",
       "  </tbody>\n",
       "</table>\n",
       "</div>"
      ],
      "text/plain": [
       "                                               antecedents  \\\n",
       "1186888  (RED RETROSPOT PEG BAG, ROUND SNACK BOXES SET ...   \n",
       "1186430  (RED RETROSPOT CHARLOTTE BAG, CHARLOTTE BAG SU...   \n",
       "1186376  (RED RETROSPOT CHARLOTTE BAG, ROUND SNACK BOXE...   \n",
       "1186942  (RED RETROSPOT PEG BAG, CHILLI LIGHTS, STRAWBE...   \n",
       "1186931  (RED RETROSPOT PEG BAG, CHARLOTTE BAG SUKI DES...   \n",
       "1186387  (RED RETROSPOT CHARLOTTE BAG, ROUND SNACK BOXE...   \n",
       "1186907  (RED RETROSPOT PEG BAG, ROUND SNACK BOXES SET ...   \n",
       "1184190  (RED RETROSPOT CHARLOTTE BAG, CHARLOTTE BAG SU...   \n",
       "1187194  (RED RETROSPOT PEG BAG, STRAWBERRY CHARLOTTE B...   \n",
       "1186075  (RED RETROSPOT CHARLOTTE BAG, CHARLOTTE BAG SU...   \n",
       "\n",
       "                                               consequents   support  \\\n",
       "1186888  (RED RETROSPOT CHARLOTTE BAG, CHARLOTTE BAG SU...  0.003053   \n",
       "1186430  (RED RETROSPOT PEG BAG, ROUND SNACK BOXES SET ...  0.003053   \n",
       "1186376  (RED RETROSPOT PEG BAG, CHILLI LIGHTS, STRAWBE...  0.003053   \n",
       "1186942  (RED RETROSPOT CHARLOTTE BAG, ROUND SNACK BOXE...  0.003053   \n",
       "1186931  (RED RETROSPOT CHARLOTTE BAG, ROUND SNACK BOXE...  0.003053   \n",
       "1186387  (RED RETROSPOT PEG BAG, CHARLOTTE BAG SUKI DES...  0.003053   \n",
       "1186907  (RED RETROSPOT CHARLOTTE BAG, CHARLOTTE BAG SU...  0.003053   \n",
       "1184190  (RED RETROSPOT PEG BAG, STRAWBERRY CHARLOTTE B...  0.003053   \n",
       "1187194  (RED RETROSPOT CHARLOTTE BAG, WOODLAND CHARLOT...  0.003053   \n",
       "1186075  (RED RETROSPOT PEG BAG, ROUND SNACK BOXES SET ...  0.003053   \n",
       "\n",
       "         confidence        lift  \n",
       "1186888    0.901639  270.762295  \n",
       "1186430    0.916667  270.762295  \n",
       "1186376    0.948276  266.969289  \n",
       "1186942    0.859375  266.969289  \n",
       "1186931    0.873016  266.610169  \n",
       "1186387    0.932203  266.610169  \n",
       "1186907    0.916667  266.395161  \n",
       "1184190    0.916667  266.395161  \n",
       "1187194    0.887097  266.395161  \n",
       "1186075    0.916667  266.395161  "
      ]
     },
     "execution_count": 95,
     "metadata": {},
     "output_type": "execute_result"
    }
   ],
   "source": [
    "rules_fp_growth[['antecedents', 'consequents', 'support', 'confidence', 'lift']].sort_values('lift', ascending=False).head(10)"
   ]
  },
  {
   "cell_type": "code",
   "execution_count": 77,
   "id": "3f1a3ed4-25c2-46aa-bf9a-04a6bf7001b1",
   "metadata": {},
   "outputs": [
    {
     "data": {
      "image/png": "[encoded data removed]",
      "text/plain": [
       "<Figure size 1008x576 with 2 Axes>"
      ]
     },
     "metadata": {
      "needs_background": "light"
     },
     "output_type": "display_data"
    }
   ],
   "source": [
    "# Visualizing the rules distribution color mapped by Lift\n",
    "plt.figure(figsize=(14, 8))\n",
    "plt.scatter(rules_fp_growth['support'], rules_fp_growth['confidence'], c=rules_fp_growth['lift'], alpha=0.5, cmap='YlOrRd');\n",
    "plt.title('Rules distribution color mapped by lift');\n",
    "plt.xlabel('Support')\n",
    "plt.ylabel('Confidence')\n",
    "plt.colorbar();"
   ]
  },
  {
   "cell_type": "markdown",
   "id": "e4f8a415-8931-4272-9ed2-a4c7718cba15",
   "metadata": {},
   "source": [
    "### Conclusion"
   ]
  },
  {
   "cell_type": "markdown",
   "id": "f64b4b46-ae98-4464-872d-2f4cca38cc82",
   "metadata": {},
   "source": [
    "The FP Growth algorithm performs better when compared to Apriori algorithm in terms of execution time of rules and memory utilization.\n",
    "\n",
    "From the Apriori algorithm with min_support=0.03, the “Pink regency teacup and saucer” and “Green regency teacup and saucer” itemset has confidence of 0.82 and lift as 15.8. Which shows that out of all transactions that contain pink regency teacup and saucer, 82% of the transactions are likely to contain green regency teacup and saucer. And Green regency teacup and saucer is 15.8 times more likely to be bought by the customers that bought pink regency teacup and saucer, compared to its default sale.\n",
    "\n",
    "From the FP Growth algorithm with min_support=0.003, the “Red retrospot peg bag” and “Red retrospot charlotte bag” has confidence of 0.90 and lift as 270. Which shows that out of all transactions that contain red retrospot peg bag, 90% of the transactions are likely to contain red retrospot charlotte bag as well. And the red retrospot charlotte bag is 270 times more likely to be bought by the customers that bought red retrospot peg bag.\n",
    "\n"
   ]
  },
  {
   "cell_type": "code",
   "execution_count": null,
   "id": "d1f11421-6aef-4ca7-a1ba-c3de005ce57b",
   "metadata": {},
   "outputs": [],
   "source": []
  }
 ],
 "metadata": {
  "kernelspec": {
   "display_name": "Python 3",
   "language": "python",
   "name": "python3"
  },
  "language_info": {
   "codemirror_mode": {
    "name": "ipython",
    "version": 3
   },
   "file_extension": ".py",
   "mimetype": "text/x-python",
   "name": "python",
   "nbconvert_exporter": "python",
   "pygments_lexer": "ipython3",
   "version": "3.8.8"
  }
 },
 "nbformat": 4,
 "nbformat_minor": 5
}
